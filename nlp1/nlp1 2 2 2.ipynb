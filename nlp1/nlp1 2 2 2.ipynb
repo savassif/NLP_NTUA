{
 "cells": [
  {
   "cell_type": "markdown",
   "metadata": {},
   "source": [
    "# Προεργασία\n",
    "\n",
    "### Ονοματεπώνυμο : Σιφναίος Σάββας \n",
    "\n",
    "### ΑΜ : 03116080\n",
    "\n",
    "Στο κομμάτι της προεργασίας καλούμαστε να δημιουργήσουμε ένα corpus, πάνω στο οποίο θα εργαστούμε στην συνέχεια. Επιπλέον, κατά το προπρασκευαστικό στάδιο της εργαστηριακής αυτής άσκησης, θα κάνουμε χρήση μηχανών πεπερασμένων καταστάσεων, μέσω των οποίων θα οδηγηθούμε ,τελικά, στην κατασκευή ενός minimum distance Spell Cheker"
   ]
  },
  {
   "cell_type": "markdown",
   "metadata": {},
   "source": [
    "## Bήμα 1ο\n",
    "\n",
    "Στο πρώτο βήμα, καλούμαστε να δημιουργήσουμε ένα Corpus με το οποίο θα εργαστούμε στην συνέχεια. Για την παρασκευή αυτού του τελικού μας Corpus, επιλέγουμε να κατέβασουμε ένα συνόλο αποτελούμενο από 5 βιβλία(corpora), τα οποία συνδεαζόμενα σε ένα .txt αρχείο δημιουργούν το τελικό Corpus. Επιλέγουμε, να χρησιμοποιήσουμε παραπάνω από ένα corpus για την σύνθεση του τελικού (προς επεξεργασία) αρχείου, δίοτι με αυτόν τροπό επιτυγχάνουμε να αποκτήσουμε πλουσιότερο λέξικο, που θα μας φάνει χρήσιμο κατα την υλοποίηση του spell checker. Επιπλέον, αυξάνοντας τον αριθμό τον corpora , έχουμε μεγαλύτερες πιθανότητες να προκύψουν περισσότερα συγκείμενα (context) για κάθε λέξη του λεξικού μας. Τέλος, με την χρήση πολλαπλών corpora , μπορούμε να εντοπίσουμε και τις διαφορετικές ερμηνείες και χρήσεις μιας λέξης.\n"
   ]
  },
  {
   "cell_type": "markdown",
   "metadata": {},
   "source": [
    "## Βήμα 2ο \n",
    "\n",
    "Στο σήμειο αυτό, μετά την δημιουργία του Corpus, ξεκινάμε να ορίσουμε ορισμένες συναρτήσεις οι οποίες θα χρησιμοποιήθουν στην συνέχεια για την προεπεξεργασία του Corpus.\n",
    "\n",
    "Αρχικά η identity_preprocess(s), δέχεται σαν όρισμα ένα string και επιστρέφει τον εαύτο του. Στην συνέχεια, η my_function (path,function)δέχεται σαν όρισμα το path για το σημείο στο οποίο είναι αποθηκεύμενο το Corpus, καθώς επίσης και την μία συνάρτηση. Η my_function (path,function),  διαβάζει το αρχείο που βρίσκεται στο συγκεκριμένο path και επιστρέφει το αποτέλεσμα που προκύπτει από την κλήση της function πάνω στο αρχείο του path.Επιπλέον, δημιουργούμε την συνάρτηση tokenize(s), της οποίας το όρισμα είναι μία συμβολοσειρά. Η tokenize(s), καλεί την strip () πάνω στην s και την lower() με την μέσω της οποίας μετατρέπει όλους του χαρακτήρες που περιέχονται στην s σε \"μικρούς\". Στην συνέχεια, βάσει του ASCII κώδικα του κάθε χαρακτήρα στην συμβολοσειρά, επιλέγει να κρατήσει μόνο του χαρακτήρες που αποτελούν γράμματα της αγγλικής γλώσσας. Τέλος, με την κλήση της split(), επιτυγχάνεται η δημιουργία μιας λίστας που περιέχει μόνο της λέξης του string σε μικρούς χαρακτήρες, απαλλαγμένες από αριθμούς και άλλα ειδικά σύμβολα. Τα στοιχεία της λίστας που επιστρέφει η tokenize(s) καλούνται tokens."
   ]
  },
  {
   "cell_type": "code",
   "execution_count": 51,
   "metadata": {},
   "outputs": [],
   "source": [
    "from pathlib import Path\n",
    "import numpy as np\n",
    "import math\n",
    "import subprocess\n",
    "\n",
    "\n",
    "def identity_preprocess(s) :\n",
    "    return s\n",
    "\n",
    "def my_read(path, preprocess = identity_preprocess):\n",
    "    fp = open(path, \"r\", encoding='latin-1')\n",
    "    line = fp.readline()    #read first line\n",
    "    line = preprocess(line) \n",
    "    text = line\n",
    "    while line:\n",
    "        line = fp.readline()     #read next lines\n",
    "        line = preprocess(line)\n",
    "        text = text + line\n",
    "    fp.close()\n",
    "    return text\n",
    "\n",
    "def tokenize(s) :\n",
    "    s = s.strip()\n",
    "    s = s.lower()\n",
    "    new_s = ''\n",
    "    c=0\n",
    "    for char in s:\n",
    "        if((ord(char) >= 97 and ord(char) <= 122) ):\n",
    "            new_s += char\n",
    "            c=0\n",
    "        elif ((ord(char) <= 97 or ord(char) >= 122) and c==0) :\n",
    "            new_s += \" \"\n",
    "            c = c+1\n",
    "    s = new_s.split()\n",
    "    return s \n",
    "\n",
    "\n",
    "    \n",
    "\n"
   ]
  },
  {
   "cell_type": "markdown",
   "metadata": {},
   "source": [
    "## Bήμα 3ο \n",
    "\n",
    "Στο βήμα αυτό ορίζουμε την συνάρτηση unique(list1), η οποία δέχεται σαν όρισμα μία λίστα και επιστρέφει ένα tuple του οποίου το πρώτο στοιχείο είναι μια λίστα με τα μοναδικά στοιχεία της λίστας που δέχτηκε σαν όρισμα η συνάρτηση και το δεύτερο στοιχείο είναι μία λίστα με τους  μοναδικούς χαρακτήρες που περιέχονται στην λίστα list1. Επιπλέον, ορίζουμε και την συνάρτηση myascii(a), ή οποία δέχεται σαν όρισμα μια λίστα με τους μοναδικούς χαρακτήρες(έστω σε μια πρόταση) και δημιουργεί το αρχείο chars.syms. Το αρχείο chars.syms θα χρησιμοποιηθεί στην συνέχεια της άσκησης για την αντιστοίχισει των μοναδικών χαρακτήρων που περιέχονται στο Corpus μας σε κάποιο integer. Τέλος, η myascii(a) επιστρέφει και μια ταξινομημένη λίστα των μοναδικών χαρακτήρων."
   ]
  },
  {
   "cell_type": "code",
   "execution_count": 52,
   "metadata": {},
   "outputs": [],
   "source": [
    "def unique(list1): \n",
    "  \n",
    "    # intilize a null list \n",
    "    tokens = [] \n",
    "    alphabet = []\n",
    "      \n",
    "    # traverse for all elements \n",
    "    for x in list1: \n",
    "        # check if exists in unique_list or not \n",
    "        if x not in tokens: \n",
    "            tokens.append(x) \n",
    "        for char in x:\n",
    "            if char not in alphabet :\n",
    "                alphabet.append(char)\n",
    "    return tokens , alphabet\n",
    "\n",
    "def myascii(a):       #a is list\n",
    "    anew = ['<epsilon>']\n",
    "    a.sort()\n",
    "    for x in a:\n",
    "        anew.append(x)\n",
    "    f = open(\"chars.syms\",\"w+\")\n",
    "    for i in anew:\n",
    "        f.write('%s     %d\\n'%(i,anew.index(i)))\n",
    "    f.close()\n",
    "    return anew\n",
    "\n",
    "corpus = my_read(\"corpus.txt\")\n",
    "s = tokenize(corpus)\n",
    "(a,b)=unique(s)\n",
    "tokens = a\n",
    "lexicon = a \n",
    "lexicon.sort()\n",
    "symbols = myascii(b)"
   ]
  },
  {
   "cell_type": "markdown",
   "metadata": {},
   "source": [
    "## Βήμα 4ο \n",
    "\n",
    "Η δημιουργία του αρχείου που πραγματοποιεί την αντιστοιχεία κάθε χαρακτήρα σε έναν ακέραιο αριθμό, όπως αναφέρθηκε και παραπάνω, πραγματοποιείται με την κλήση της συνάρτησης myascii(a)"
   ]
  },
  {
   "cell_type": "markdown",
   "metadata": {},
   "source": [
    "## Βήμα 5ο \n",
    "α)\n",
    "Πριν την δημιουργία του Transducer ορίζουμε μία ακόμη συνάρτηση,την format_arc(src, dst, src_sym, dst_sym, w). Η παραπάνω συνάρτηση, οπώς φαίνεται, δέχεται 5 ορίσματα : \n",
    "Το src , το οποίο αντιστοιχεί στην κατάσταση στην οποία βρίσκεται η μηχανή πεπερασμένων καταστάσεων.\n",
    "Το dst , το οποίο αντιστοιχεί στην κατάσταση στην οποία καταλήγει η μηχανή πεπερασμένων καταστάσεων, μετά από ορισμένη είσοδο.\n",
    "Το src_sym , το οποίο αντιστοιχεί στο σύμβολο το οποίο πυροδοτεί την μετάβαση από μια κατάσταση σε κάποια άλλη.\n",
    "Το dst_sym , το οποίο αντιστοιχεί στο σύμβολο στο οποίο μετατρέπεται το σύμβολο εκείνο που πυροδότησε την μετάβση(δηλαδή το src_sym)\n",
    "Το w , το οποίο αντιστοιχεί στο βάρος της ακμής μεταξύ των καταστάσεων src και dst.\n",
    "\n",
    "Ο  Leveneshtein Transducer αποτελείται από μια μόνο κατάσταση και πραγματοποιεί 3 τύπους από edits. Το πρώτο είναι να αντιστοιχίζει κάθε χαρακτήρα στον εαύτο του με βάρος ακμής w=0. Το δεύτερο είναι η αντιστοίχιση ενός χαρακτήρα στο <epsilon> με βάρος ακμής w=1, το οποίο ουσιαστικά αντιστοιχεί σε διαγραφεί ενός χαρακτήρα. Ο τρίτος τύπος edit είναι το αντίστροφο από το προηγούμενο, δηλαδή η αντιστοίχιση του <epsilon> σε κάποιον άλλο χαρακτήρα με βάρος ακμής ,πάλι, w=1. To τελευταίο αυτό edit ισοδυναμεί με την εισαγωγή ενός νέου χαρακτήρα\n",
    "    \n",
    "Αφού έχουμε ορίσει την παραπάνω συνάρτηση, δημιουργούμε το αρχείο txt 'tran.txt',στο οποίο θα αποθηκεύσουμε τους \"κανόνες\" μετάβασης από μια κατάσταση σε κάποια άλλη (ή αλλίως τα edits που περιγράφησαν παραπάνω), οι οποίοι κατασκευάζουν τον transducer που υλοποιεί την Levenshtein απόσταση. Στην συνέχεια, με την εντολή \"fstcompile -isymbols=chars.syms -osymbols=chars.syms tran.txt > T.fst\" κάνουμε compile το αρχείο .txt σε .fst και με αυτό τον τρόπο ολοκληρώνουμε την κατασκευή του Levenshtein Transducer .\n",
    "    \n",
    "Από τη στιγμή που τα βάρη στον μετατροπέα είναι είτε μηδενικά, αν δεν αλλάζει το σύμβολο εισόδου, είτε άσοι, αν ένα σύμβολο αντικαθίσταται, εισάγεται ή διαγράφεται, παίρνουμε το shortest path αν δεν εφαρμόσουμε καμία μετατροπή στη λέξη, οπότε όλα τα βάρη μας θα είναι μηδενικά. Τότε θα πάρουμε στην έξοδο την λέξη εισόδου"
   ]
  },
  {
   "cell_type": "code",
   "execution_count": 53,
   "metadata": {},
   "outputs": [],
   "source": [
    "def format_arc(src, dst, src_sym, dst_sym, w) :\n",
    "    out = '{0} {1} {2} {3} {4}\\n'.format(src, dst, src_sym, dst_sym, w)\n",
    "    return out\n",
    "\n",
    "f = open('tran.txt', 'w+')\n",
    "for i in symbols :\n",
    "    if (i != '<epsilon>') :\n",
    "        f.write(format_arc(src=0,dst=0,src_sym=i,dst_sym=i,w=0))\n",
    "    for j in symbols :\n",
    "        if (j != i ) :\n",
    "            f.write(format_arc(src=0,dst=0,src_sym=i,dst_sym=j,w=1))\n",
    "f.write('0\\n')\n",
    "f.close()"
   ]
  },
  {
   "cell_type": "code",
   "execution_count": 54,
   "metadata": {},
   "outputs": [],
   "source": [
    "%%bash \n",
    "\n",
    "fstcompile -isymbols=chars.syms -osymbols=chars.syms tran.txt > T.fst;\n"
   ]
  },
  {
   "cell_type": "markdown",
   "metadata": {},
   "source": [
    "Ο συγκεκριμένος τρόπος υπολογισμού των βαρών είναι αρκετά απλοϊκός. Συγκεκριμένα, αν είχαμε στην διάθεσή μας δεδομένα λαθών τότε θα μπορούσαμε να προσαρμόσουμε τα βάρη των μετατροπών ώστε πιθανότερες μετατροπές να αντιστοιχίζονται σε μικρότερα βάρη. Αυτό μπορεί να εξαρτάται από το είδος της μετατροπής αλλά και από τον εκάστοτε χαρακτήρα. Για παράδειγμα είναι πολύ πιθανότερο να γράψουμε 'σ' αντί για 'α' από το γράψουμε 'π' αντί για α λόγω της σχετικής τους θέσης στο πληκτρολόγιο. Έτσι πρέπει να αντιστοιχίσουμε μικρότερο βάρος στην πρώτη μετατροπή ώστε να επιλέγεται ευκολότερα από την δεύτερη μέσω του συντομότερου μονοπατιού. Επίσης η συχνότητα μίας λέξης μπορεί να ληφθεί υπόψην, καθώς αν η απόσταση της λανθασμένης λέξης μεταξύ δύο λέξεων του λεξικού είναι παρόμοια, τότε είναι πιθανότερο να αντιστοιχίζεται στην λέξη που εμφανίζεται πιο συχνά."
   ]
  },
  {
   "cell_type": "markdown",
   "metadata": {},
   "source": [
    " ## Βήμα 6ο\n",
    " \n",
    " α)\n",
    " Στο σημείο αυτό καλούμαστε να κατασκευάσουμε έναν αποδεχέα για κάθε λέξη που περιέχεται στο λεξικό. Όπως και στην περίπτωση του Transducer, έτσι και έδω θα γίνει χρήση της συνάρτησης formart_arc για την δημιουργία του αρχείου, το οποίο θα μεταφραστεί προκειμένου να δημιουργηθεί το .fst αρχείο που θα υλοποιεί τον αποδοχέα μας. Για την κατασκευή του acceptor εργαζόμαστε ώς εξής : \n",
    "Αρχικά, δημιουργούμε ένα αρχείο .txt  στο οποίο θα γράφουμε τις εξόδους της συνάρτησεις format_arc\n",
    "Στην συνέχεια, επαναληπτικά, εξετάζουμε την κάθε λέξη του λεξικού μας φροντίζοντας πάντα η πρώτη ακμή για την κάθε λέξη να ξεκινάει από την κατάσταση μηδέν. Σημείωνουμε στο σημείο αυτό, πως για να έχουμε γνωση του ποιά είναι η κατάσταση στην οποία πρέπει να μεταβούμε κάθε φορά που εξετάζουμε καινούργια λέξη, κάνουμε χρήση της μεταβλητής cnt στην οποία προσθέτουμε στο τέλος κάθε επανάληψης την τιμή της κατάστασης στην οποία έφτασα η προηγούμενη λέξη. Τέλος, όπως κάναμε και στον Transducer με την εντολή 'fstcompile -isymbols=chars.syms -osymbols=chars.syms fsa.txt > fsa.fst' κάνουμε compile to .txt αρχείο σε .fst  και ολοκληρώνουμε την δημιουργία του Acceptor.\n",
    "\n",
    "β) \n",
    "Συνεχίζοντας, μας ζητείται να καλέσουμε τις εντολές fstrmepsilon , fstdeterminize, fstminimize. Η πρώτη εκ των τριών εντολών είναι υπεύθυνη για την αφαίρεση οποίασδηποτε εψίλον μετάβασης.Συγκεκριμένα, αν ο αρχικος αποδοχέας περιείχε μεταβάσεις που πυροδοτούνταν από το <epsilon>, μετά την κλήση αυτής της εντολής οι αντίστοιχες ακμές θα είχαν αφαιρεθεί. Επιπλέον, η fstdeterminize φροντίζει για την μετατροπή μιας μη ντερμινιστικής μηχανής στην ισοδύναμη ντετερμινιστική της. Τέλος, με την εφαρμογή  της fstminize πανώ στο ντετερμινιστικό ,πλέον, αποδοχέα , επιτυγχάνουμε την ελαχιστοποίηση της μηχανής αυτής. Με την εκτέλεση των τριών αυτών εντολών επιτυγχάνουμε σημαντική μείωση του αριθμού των καταστάσεων της μηχανής,όπως φαίνεται και παρακάτω"
   ]
  },
  {
   "cell_type": "code",
   "execution_count": 55,
   "metadata": {},
   "outputs": [],
   "source": [
    "f = open('fsa.txt' , 'w+')\n",
    "cnt = 0\n",
    "#print(lexicon[1600:1621])\n",
    "for word in lexicon:\n",
    "    if len(word)>1:\n",
    "        f.write(format_arc(src=0,dst=cnt+1,src_sym=word[0],dst_sym=word[0],w=0))\n",
    "        for j in range(cnt+2,len(word)+cnt+1):\n",
    "            f.write(format_arc(src=j-1,dst=j,src_sym=word[j-cnt-1],dst_sym=word[j-cnt-1],w=0))    \n",
    "        cnt = j+1\n",
    "    #f.write(format_arc(src=cnt,dst=0,src_sym='<epsilon>',dst_sym='<epsilon>',w=0))\n",
    "        f.write('{}\\n'.format(cnt-1))\n",
    "    else :\n",
    "        f.write(format_arc(src=0,dst=cnt+1,src_sym=word[0],dst_sym=word[0],w=0))\n",
    "        cnt+=1\n",
    "        f.write('{}\\n'.format(cnt))\n",
    "f.close()\n",
    "    "
   ]
  },
  {
   "cell_type": "code",
   "execution_count": 56,
   "metadata": {
    "scrolled": false
   },
   "outputs": [
    {
     "name": "stdout",
     "output_type": "stream",
     "text": [
      "fst type                                          vector\n",
      "arc type                                          standard\n",
      "input symbol table                                none\n",
      "output symbol table                               none\n",
      "# of states                                       19373\n",
      "# of arcs                                         40662\n",
      "initial state                                     0\n",
      "# of final states                                 3527\n",
      "# of input/output epsilons                        0\n",
      "# of input epsilons                               0\n",
      "# of output epsilons                              0\n",
      "input label multiplicity                          1\n",
      "output label multiplicity                         1\n",
      "# of accessible states                            19373\n",
      "# of coaccessible states                          19373\n",
      "# of connected states                             19373\n",
      "# of connected components                         1\n",
      "# of strongly conn components                     19373\n",
      "input matcher                                     y\n",
      "output matcher                                    y\n",
      "input lookahead                                   n\n",
      "output lookahead                                  n\n",
      "expanded                                          y\n",
      "mutable                                           y\n",
      "error                                             n\n",
      "acceptor                                          y\n",
      "input deterministic                               y\n",
      "output deterministic                              y\n",
      "input/output epsilons                             n\n",
      "input epsilons                                    n\n",
      "output epsilons                                   n\n",
      "input label sorted                                y\n",
      "output label sorted                               y\n",
      "weighted                                          n\n",
      "cyclic                                            n\n",
      "cyclic at initial state                           n\n",
      "top sorted                                        n\n",
      "accessible                                        y\n",
      "coaccessible                                      y\n",
      "string                                            n\n",
      "weighted cycles                                   n\n"
     ]
    }
   ],
   "source": [
    "%%bash\n",
    "\n",
    "fstcompile -isymbols=chars.syms -osymbols=chars.syms fsa.txt > fsa.fst;\n",
    "fstdeterminize fsa.fst > fsadet.fst \n",
    "fstminimize fsadet.fst > fsamin.fst\n",
    "#fstdraw --isymbols=chars.syms --osymbols=chars.syms fsamin.fst| dot -Tjpg >fsamin.jpg\n",
    "fstinfo fsa.fst | fstinfo fsamin.fst "
   ]
  },
  {
   "cell_type": "markdown",
   "metadata": {},
   "source": [
    "## Βήμα 7ο\n",
    "\n",
    "α)\n",
    "\n",
    "Μέχρι στιγμής έχουμε δημιουργήσει έναν αποδοχέα για την κάθε λέξη που περιέχεται στο λεξικό μας και έναν μετατροπέα που υλοποιεί την Levenshtein απόσταση. Για την δημιουργία ενός ορθογράφου ελάχιστης απόστασης, ενός ορθογράφου ,δηλαδή,που μετατρέπει λέξεις εκτός λεξικού στην κοντινότερη (κατά Levenshtein) λέξη εντός του λεξικού μας, θα προβούμε στην σύνθεση του αποδοχέα με τον Levenshtein Transducer. Η παραπάνω σύνθεση πραγματοποιείται με την εντολή \"fstcompose  Τ.fst fsamin.fst  comp.fst\" , όπου το Τ.fst είναι ο Transducer μας και fsamin.fst είναι ο ελάχιστος απόδοχέας των λέξεων που περιέχονται στο λεξικό. Το αποτέλεσμα αυτής της σύνθεσης, καλείται min edit distance spell checker."
   ]
  },
  {
   "cell_type": "code",
   "execution_count": 57,
   "metadata": {},
   "outputs": [],
   "source": [
    "%%bash \n",
    "\n",
    "fstcompose  Τ.fst fsamin.fst  comp.fst\n"
   ]
  },
  {
   "cell_type": "markdown",
   "metadata": {},
   "source": [
    "## Βήμα 8ο\n",
    "\n",
    "α)\n",
    "\n",
    "Για να δώσουμε κάποια λέξη σαν είσοδο στον ορθογράφο που μόλις συνθέσαμε, χρείαζεται η λέξη αυτή να βρίσκεται σε μορφή που μπορεί να αναγνωρίσει ο ορθογράφος μας. Για τον λόγο αυτό, προκείμένου να δώσουμε είσοδο στον min edit distance spell checker , δημιουργούμε έναν αποδοχέα για την λέξη την οποία θέλουμε να διορθώσουμε και στην συνέχεια συνθέτουμε τον αποδοχέα της υπό εξέταση λέξης με τον ορθογράφο μας. Η διορθωμένη λέξη(έξοδος του ορθογράφου) είναι η λέξη αυτή του λεξικού μας που απέχει λιγότερο από την υπό εξέταση λέξη (είσοδο του ορθογράφου). Συνεπώς, για να βρούμε την διορθωμένη λέξη , καλούμε την fstshortestpath στο αποτέλεσμα της σύνθεσης του ορθογράφου και του αποδοχέα της υπό εξέταση λέξης, η οποία βρίσκει το μονοπάτι με το χαμηλότερο βάρος.\n",
    "\n",
    "β) \n",
    "\n",
    "Σε είσοδο cit ο ορθογράφος επιστρέφει την λέξη wit \n",
    "\n",
    "Δοκιμάζοντας,στην συνέχεια, τυχαία 20 λέξεις από το set που δίνεται μέσω του αντίστοιχου συνδέσμου, παρατηρούμε πως 14/20 λέξεις τις διόρθωσε σωστά ο ορθογράφος μας, γεγονός το οποίο αντιστοιχεί σε 70% επιτυχεία. Στο σημείο αυτό, αξίζει να παρατηρήσουμε ότι ο παραπάνω ορθογράφος παράγει ,τις πεισσότερες φορές, σωστά αποτελέσματα όταν η υπό εξέταση λέξη διαφέρει κατά ένα μόνο γράμμα από κάποια λέξη στο λεξικό μας. "
   ]
  },
  {
   "cell_type": "code",
   "execution_count": 1,
   "metadata": {},
   "outputs": [
    {
     "ename": "NameError",
     "evalue": "name 'lexicon' is not defined",
     "output_type": "error",
     "traceback": [
      "\u001b[0;31m---------------------------------------------------------------------------\u001b[0m",
      "\u001b[0;31mNameError\u001b[0m                                 Traceback (most recent call last)",
      "\u001b[0;32m<ipython-input-1-79069dc2f148>\u001b[0m in \u001b[0;36m<module>\u001b[0;34m\u001b[0m\n\u001b[1;32m      1\u001b[0m \u001b[0mletters\u001b[0m \u001b[0;34m=\u001b[0m \u001b[0;34m'cit'\u001b[0m\u001b[0;34m\u001b[0m\u001b[0;34m\u001b[0m\u001b[0m\n\u001b[0;32m----> 2\u001b[0;31m \u001b[0;32mif\u001b[0m \u001b[0mletters\u001b[0m \u001b[0;32mnot\u001b[0m \u001b[0;32min\u001b[0m \u001b[0mlexicon\u001b[0m\u001b[0;34m:\u001b[0m\u001b[0;34m\u001b[0m\u001b[0;34m\u001b[0m\u001b[0m\n\u001b[0m\u001b[1;32m      3\u001b[0m     \u001b[0mprint\u001b[0m\u001b[0;34m(\u001b[0m\u001b[0;34m'not found'\u001b[0m\u001b[0;34m)\u001b[0m\u001b[0;34m\u001b[0m\u001b[0;34m\u001b[0m\u001b[0m\n\u001b[1;32m      4\u001b[0m \u001b[0mfi\u001b[0m \u001b[0;34m=\u001b[0m \u001b[0mopen\u001b[0m\u001b[0;34m(\u001b[0m\u001b[0;34m'input.txt'\u001b[0m\u001b[0;34m,\u001b[0m\u001b[0;34m'w+'\u001b[0m\u001b[0;34m)\u001b[0m\u001b[0;34m\u001b[0m\u001b[0;34m\u001b[0m\u001b[0m\n\u001b[1;32m      5\u001b[0m \u001b[0mfi\u001b[0m\u001b[0;34m.\u001b[0m\u001b[0mwrite\u001b[0m\u001b[0;34m(\u001b[0m\u001b[0mformat_arc\u001b[0m\u001b[0;34m(\u001b[0m\u001b[0msrc\u001b[0m\u001b[0;34m=\u001b[0m\u001b[0;36m0\u001b[0m\u001b[0;34m,\u001b[0m\u001b[0mdst\u001b[0m\u001b[0;34m=\u001b[0m\u001b[0;36m1\u001b[0m\u001b[0;34m,\u001b[0m\u001b[0msrc_sym\u001b[0m\u001b[0;34m=\u001b[0m\u001b[0mletters\u001b[0m\u001b[0;34m[\u001b[0m\u001b[0;36m0\u001b[0m\u001b[0;34m]\u001b[0m\u001b[0;34m,\u001b[0m\u001b[0mdst_sym\u001b[0m\u001b[0;34m=\u001b[0m\u001b[0mletters\u001b[0m\u001b[0;34m[\u001b[0m\u001b[0;36m0\u001b[0m\u001b[0;34m]\u001b[0m\u001b[0;34m,\u001b[0m\u001b[0mw\u001b[0m\u001b[0;34m=\u001b[0m\u001b[0;36m0\u001b[0m\u001b[0;34m)\u001b[0m\u001b[0;34m)\u001b[0m\u001b[0;34m\u001b[0m\u001b[0;34m\u001b[0m\u001b[0m\n",
      "\u001b[0;31mNameError\u001b[0m: name 'lexicon' is not defined"
     ]
    }
   ],
   "source": [
    "letters = 'cit'\n",
    "if letters not in lexicon:\n",
    "    print('not found')\n",
    "fi = open('input.txt','w+')\n",
    "fi.write(format_arc(src=0,dst=1,src_sym=letters[0],dst_sym=letters[0],w=0))\n",
    "for j in range(2,len(letters)+1):\n",
    "    fi.write(format_arc(src=j-1,dst=j,src_sym=letters[j-1],dst_sym=letters[j-1],w=0))    \n",
    "    #f.write(format_arc(src=cnt,dst=0,src_sym='<epsilon>',dst_sym='<epsilon>',w=0))\n",
    "fi.write('{}\\n'.format(j))\n",
    "fi.close()   \n"
   ]
  },
  {
   "cell_type": "code",
   "execution_count": 59,
   "metadata": {},
   "outputs": [
    {
     "name": "stdout",
     "output_type": "stream",
     "text": [
      "wit"
     ]
    }
   ],
   "source": [
    "%%bash\n",
    "\n",
    "fstcompile -isymbols=chars.syms -osymbols=chars.syms input.txt > input.fst;\n",
    "\n",
    "fstcompose input.fst comp.fst test.fst \n",
    "fstshortestpath test.fst > test1.fst\n",
    "fsttopsort test1.fst test1.fst \n",
    "\n",
    "fstdraw --isymbols=chars.syms --osymbols=chars.syms -portrait test1.fst| dot -Tpng >out.png\n",
    "fstprint --osymbols=chars.syms test1.fst | cut -f4 | grep -v \"<epsilon>\"|tr -d [:digit:]|tr -d '\\n'\n"
   ]
  },
  {
   "cell_type": "markdown",
   "metadata": {},
   "source": [
    "## Βήμα 9ο \n",
    "\n",
    "Στο σήμειο αυτό σταματάμε την ενασχόλησή μας με τις μηχανές πεπερασμένων καταστάσεων και στρεφόμαστε προς το word embeddings. Κάθε word embedding αποτελεί ,συνοπτικά, την αριθμητική αναπαράσταση μίας συγκεκριμένης λέξης προκειμένου αυτή να είναι διαχειρίσιμη από τον υπολογιστή. \n",
    "\n",
    "α) \n",
    "\n",
    "Αρχικά, επεξεργαζόμαστε ξανά το corpus που δημιουργήσαμε κατά το πρώτο βήμα της άσκησης. Αυτή την φορά, διαβάζουμε το αρχείο και στην συνέχεια δημιουργούμε μία λίστα από λίστες από συμβολοσειρές. Κάθε λίστα, μέσα στην γενική λίστα αντιστοιχεί σε μια πρόταση του corpus. Συγκεκριμένα, κάθε 'υπολίστα' περιέχει τα tokens της πρότασης στην οποία αντιστοιχεί."
   ]
  },
  {
   "cell_type": "code",
   "execution_count": 60,
   "metadata": {
    "scrolled": true
   },
   "outputs": [],
   "source": [
    "def tokenize_sentence(s):\n",
    "    s = s.lower()\n",
    "    s = s.replace('\\n',' ')\n",
    "    letters = string.ascii_lowercase + \" \" + \".\" + \"?\" + \"!\"  # characters from string.printable we don't want removed\n",
    "    remove = ''.join([i for i in string.printable if i not in letters])     # characters that we want to remove\n",
    "    remove = remove + '˜' + '£' + '¦' + '¨' + '©' + '½' + '“' + '”' + '€' + '™' + '' + '`' + '\\'' + \"‘\" + \"’\"\n",
    "    s = ''.join([i for i in s if i not in remove])     # keep rest of the text\n",
    "    s = s.replace('.', '<stop>')\n",
    "    s = s.replace('?', '<stop>')\n",
    "    s = s.replace('!', '<stop>')\n",
    "    sentences = s.split('<stop>')\n",
    "    sentences_final = []\n",
    "    for sentence in sentences:\n",
    "        sen = sentence.split()\n",
    "        sentences_final.append(sen)\n",
    "    return sentences_final\n",
    "f = open('corpus.txt', encoding=\"utf8\")"
   ]
  },
  {
   "cell_type": "markdown",
   "metadata": {},
   "source": [
    "β) \n",
    "\n",
    "Στην συνέχεια, από την βιβλιοθήκη του gensim κάνουμε import το μοντέλο Word2Vec και με τις εντολές που φαίνονται παρακάτω επιτυγχάνουμε να δημιουργήσουμε word embeddings μεγέθους 100 με βάση τις προτάσεις που δημιουργήσαμε παραπάνω ."
   ]
  },
  {
   "cell_type": "code",
   "execution_count": 61,
   "metadata": {},
   "outputs": [],
   "source": [
    "from gensim.models import Word2Vec\n",
    "import string\n",
    "sentences = tokenize_sentence(corpus)\n",
    "\n",
    "# Initialize word2vec. Context is taken as the 2 previous and 2 next words\n",
    "model = Word2Vec(sentences, window=5, size=100, workers=12)\n",
    "model.train(sentences, total_examples=len(sentences), epochs=1000)\n",
    "\n",
    "# get ordered vocabulary list\n",
    "voc = model.wv.index2word\n",
    "\n",
    "# get vector size\n",
    "dim = model.vector_size\n",
    "\n",
    "# Convert to numpy 2d array (n_vocab x vector_size)\n",
    "def to_embeddings_Matrix(model):  \n",
    "    embedding_matrix = np.zeros((len(model.wv.vocab), model.vector_size))\n",
    "    word2idx = {}\n",
    "    for i in range(len(model.wv.vocab)):\n",
    "        embedding_matrix[i] = model.wv[model.wv.index2word[i]]\n",
    "        word2idx[model.wv.index2word[i]] = i\n",
    "    return embedding_matrix, model.wv.index2word, word2idx"
   ]
  },
  {
   "cell_type": "markdown",
   "metadata": {},
   "source": [
    "γ)\n",
    "\n",
    "Στο σημείο αυτό έχουμε δημιουργήσει τα Word embeddings για το λεξικό του corpus. Ένας τρόπος για να αξιολογήσουμε τα διανύσματα αυτά είναι , δεδομένης μίας λέξης του λεξιλογίου μας, να προσπαθήσουμε να βρούμε τις εννοιολογικά κοντινότερες σε αυτή λέξεις. Η εύρεση των 10 εννοιολογικά κοντινότερων λέξεων γίνεται με την εντολή model.wv.most_similar. Στο σημείο αυτό, σημείωνουμε ότι μετά την εύρεση των κοντινότερων λέξεων σε 10 τυχαίες λέξεις του λεξικού μας είδαμε πως για λέξεις όπως 'man', 'war' , 'god' το παραπάνω μοντέλο είναι σε θέση να βρεί λέξεις που όντως είναι συγγενείς. Αντίθετα, στην περίπτωση πιο αφηρημένων εννοιών, όπως liberty και madness, οι λέξεις που θεωρεί το μοντέλο ως εννοιολογικά συγγενείς στην πραγματικότητα είναι άσχετες μεταξύ τους.\n",
    "\n",
    "Σε συνέχεια της προσπάθειάς μας για εύρεση των εννοιολογικα κοντινότερων λέξεων, εκπαιδεύουμε εκ νέου τα embeddings μας , αυτή την φορά επιλέγοντας μέγεθος παραθύρου ίσο με 10 διατηρώντας σταθερό τον αριθμό των εποχών. Τα αποτελέσματα τώρα που επιστρέφει το μοντέλο μας ως εννοιολογικά συγγενείς λέξεις βελτιώνονται σε κάποιο βαθμό. Αυτό συμβαίνει, διότι με την αύξηση του παραθύρου κατά την εκπαίδευση αυτόματα αυξάνεται και το μέγεθος του context κάθε λέξεις. Επομένως, με μεγαλύτερο context το μοντέλο \"βλέπει\" μια μεγαλύτερη γειτονία λέξεων γύρο από την υπό εξέταση λέξη, με αποτέλεσμα να μπορεί να προβλέπει καλύτερα τις κοντινότερες εννοιολογικά σε αυτή λέξεις.\n",
    "\n",
    "Τέλος, επαναλαμβάνουμε τη δοκιμή μας με μεγαλύτερο αριθμό εποχών (1500). Όπως αναμέναμε, και εδώ τα αποτελέσματα είναι καλύτερα, δεδομένου ότι ο αυξημένος αριθμός εποχών συνεπάγεται πιο ακριβή υπολογισμό των βαρών και συνεπώς των πιθανοτήτων."
   ]
  },
  {
   "cell_type": "code",
   "execution_count": 62,
   "metadata": {
    "scrolled": true
   },
   "outputs": [
    {
     "name": "stdout",
     "output_type": "stream",
     "text": [
      "happy :  [('happiest', 0.4930771291255951), ('reasonable', 0.4618246555328369), ('sure', 0.41051357984542847), ('agreeable', 0.4084770679473877), ('admired', 0.4053723216056824), ('sensible', 0.3980337381362915), ('perfect', 0.39581480622291565), ('ill', 0.39506006240844727), ('equal', 0.39316457509994507), ('impossible', 0.37997502088546753)] \n",
      "\n",
      "man :  [('woman', 0.5948513746261597), ('mans', 0.5755634307861328), ('person', 0.5538817644119263), ('thing', 0.5248861908912659), ('fellow', 0.45852041244506836), ('fool', 0.4565050005912781), ('drunkard', 0.4120115041732788), ('he', 0.41201066970825195), ('nobleman', 0.4023469388484955), ('lad', 0.3951053321361542)] \n",
      "\n",
      "war :  [('battle', 0.6098495721817017), ('fight', 0.46731358766555786), ('mighty', 0.4159090518951416), ('fiery', 0.4067761301994324), ('army', 0.39250633120536804), ('league', 0.38860946893692017), ('arrows', 0.3870196044445038), ('armed', 0.3807216286659241), ('fought', 0.37788617610931396), ('boats', 0.37210965156555176)] \n",
      "\n",
      "god :  [('lord', 0.767836332321167), ('glory', 0.5274841785430908), ('righteousness', 0.5143713355064392), ('father', 0.5035308599472046), ('servant', 0.49640196561813354), ('salvation', 0.4914554953575134), ('name', 0.4756225347518921), ('christ', 0.4718174338340759), ('covenant', 0.4570963978767395), ('thee', 0.4510385990142822)] \n",
      "\n",
      "pure :  [('sweet', 0.4789573550224304), ('perfect', 0.442081093788147), ('gold', 0.39487457275390625), ('full', 0.3865748643875122), ('mitre', 0.37064114212989807), ('poured', 0.3653150796890259), ('rites', 0.35152891278266907), ('divine', 0.3472236394882202), ('nuptial', 0.3468281626701355), ('diamond', 0.346449077129364)] \n",
      "\n",
      "holmes :  [('lestrade', 0.5110000967979431), ('artilleryman', 0.4772363007068634), ('scrooge', 0.4600065350532532), ('chair', 0.4595559537410736), ('elizabeth', 0.43428874015808105), ('inspector', 0.43199944496154785), ('â\\x80\\x99', 0.41846317052841187), ('â\\x80', 0.4110885262489319), ('holmesâ\\x80\\x99', 0.4082472622394562), ('gregor', 0.40519943833351135)] \n",
      "\n",
      "wife :  [('brother', 0.675662100315094), ('daughter', 0.6087907552719116), ('mother', 0.5931271314620972), ('husband', 0.5878376960754395), ('sister', 0.5629482269287109), ('maid', 0.5477840900421143), ('concubine', 0.5445750951766968), ('daughters', 0.511735737323761), ('sisters', 0.5059104561805725), ('wives', 0.4840688705444336)] \n",
      "\n",
      "love :  [('goodness', 0.5272195339202881), ('hope', 0.5035417675971985), ('delight', 0.4857131242752075), ('loved', 0.47917231917381287), ('believe', 0.4732186198234558), ('fear', 0.45577681064605713), ('grace', 0.4404944181442261), ('praise', 0.4381956458091736), ('hate', 0.43798553943634033), ('faith', 0.42986708879470825)] \n",
      "\n",
      "dead :  [('dying', 0.43261075019836426), ('slain', 0.40864527225494385), ('risen', 0.39869439601898193), ('child', 0.3981144428253174), ('guilty', 0.38359904289245605), ('christ', 0.3782222270965576), ('grave', 0.3758369982242584), ('genealogy', 0.37214916944503784), ('firstborn', 0.36520713567733765), ('defiled', 0.35598546266555786)] \n",
      "\n",
      "dog :  [('monkey', 0.41532590985298157), ('wheel', 0.38320761919021606), ('vein', 0.3821704387664795), ('leather', 0.37265557050704956), ('arrow', 0.372275710105896), ('flint', 0.36849308013916016), ('shreds', 0.36733850836753845), ('circular', 0.36325955390930176), ('game', 0.36004501581192017), ('killing', 0.3493822515010834)] \n",
      "\n"
     ]
    }
   ],
   "source": [
    "input_=my_read(\"./words.txt\")\n",
    "words_tok=tokenize(input_)\n",
    "for word in  words_tok:\n",
    "    sim = model.wv.most_similar(word)\n",
    "    print (word, \": \", sim, \"\\n\")"
   ]
  },
  {
   "cell_type": "markdown",
   "metadata": {},
   "source": [
    "# Μέρος 1ο\n",
    "\n",
    "Στο πρώτο αυτό μέρος της εργαστηριακής άσκησης, θα εστιάσουμε ξανά στην κατασκευή ενός spell checker. Αυτή την φορά ,ωστόσο, κατά την κατασκευή του transducer και του acceptor θα αποδώσουμε διαφορετικά βάρη στις ακμές τους."
   ]
  },
  {
   "cell_type": "markdown",
   "metadata": {},
   "source": [
    "## Βήμα 10ο \n",
    "\n",
    "Όπως αναφέραμε και παραπάνω τα βάρη ,αυτή την φορά, των ακμών στις μηχανές πεπερασμένης κατάστασης θα προκύπτουν με είτε βάση την συχνότητα εμφάνισης μιας λέξης στο κείμενο είτε με βάση την συχνότητα εμφάνισης κάθε χαρακτήρα στο κείμενο. Συνεπώς, για τον υπολογισμό των βαρών κρίνεται αναγκαίος ο υπολογισμός της πιθανότητας εμφάνισης της κάθε λέξης μέσα στο κείμενο, κάθως και την πιθανότητα εμφάνισης κάθε χαρακτήρα.\n",
    "\n",
    "Αρχικά, δημιουργούμε 2 Python Dictionaries , τα οποίο ως key θα έχουν την λέξη ή τον χαρακτήρα αντίστοιχα και ως value θα έχουν την πιθανότητα εμφάνισης του αντίστοιχου key. \n",
    "\n",
    "Για την συμπλήρωση των 2 Dictionaries, διατρέχουμε την λίστα που δημιουργήσαμε κατά το βήμα 9α και για κάθε token που βρίσκουμε εκει εξετάζουμε αν υπάρχει στο Dictionary.Aν υπάρχει ήδη απλά αυξάνουμε το value του συγκεκριμένου, αλλίως θέτουμε την τιμή του  σε  μονάδα . Την ίδια ακριβώς διαδικασία ακολουθουμέ και για την κατασκευή του dictionary για τους χαρακτήρες του corpus μας.Με την παραπάνω διαδικάσια έχουμε καταφέρει να υπολογίσουμε και να αποθηκεύσουμε την συχνότητα εμφάνισης κάθε λέξης και κάθε χαρακτήρα στο Corpus.Συνεπώς, για τον υπολογισμό των αντίστοιχων πιθανοτήτων, διαιρούμε κάθε value του Word Dictionary με τον συνολικό αριθμό των λέξεων και κάθε value του Character Dictionary με τον συνολικό αριθμό των χαρακτήρων μέσα στο κείμενο. "
   ]
  },
  {
   "cell_type": "code",
   "execution_count": 63,
   "metadata": {},
   "outputs": [],
   "source": [
    "word_dict = {}\n",
    "symbol_dict = {}\n",
    "temp =0\n",
    "for word in tokens :\n",
    "    if word not in word_dict:\n",
    "        word_dict[word] = 0\n",
    "    word_dict[word] += 1\n",
    "for word in tokens :\n",
    "    for symbol in word :\n",
    "        if symbol not in symbol_dict:\n",
    "            symbol_dict[symbol] = 0\n",
    "        symbol_dict[symbol] += 1\n",
    "total_chars = sum(symbol_dict.values())\n",
    "total_words = sum(word_dict.values())\n",
    "\n",
    "for key in word_dict:\n",
    "    word_dict[key]= word_dict[key]/total_words\n",
    "\n",
    "for key in symbol_dict:\n",
    "    symbol_dict[key] = symbol_dict[key]/total_chars\n",
    "\n"
   ]
  },
  {
   "cell_type": "markdown",
   "metadata": {},
   "source": [
    "## Βήμα 11ο \n",
    "\n",
    "Στο σημείο αυτό θα δημιουργήσουμε δύο Transducers που θα υλοποιούν την απόσταση Levenshtein. Η δύο αυτοί Transducers θα διαφοροποιούνται στο βάρος των edits. \n",
    "\n",
    "α)\n",
    "\n",
    "Αρχικά, υπολογίζουμε το βάρος των edits του word level Transducer ως τον αρνητικό λογαριθμό της μέσης τιμής των πιθανοτήτων εμφάνισης κάθε λέξης του Corpus μας.\n",
    "\n",
    "β) \n",
    "\n",
    "Στην συνέχεια, οπώς ακριβώς κάναμε στο βήμα 5 της προεργασίας κατασκευάζουμε τον word level Transducer μόνο που αυτή την φορά ορίζουμε ως βάρος για την εισαγωγή και την διαγραφή χαρακτήρα την τιμή που υπολογίσαμε στο ερώτημα α)"
   ]
  },
  {
   "cell_type": "code",
   "execution_count": 64,
   "metadata": {},
   "outputs": [],
   "source": [
    "temp = sum(word_dict.values())/len(word_dict)\n",
    "w = -math.log(temp)\n",
    "\n",
    "f = open('new_tran.txt', 'w+')\n",
    "for i in symbols :\n",
    "    if (i != '<epsilon>') :\n",
    "        f.write(format_arc(src=0,dst=0,src_sym=i,dst_sym=i,w=0))\n",
    "    for j in symbols :\n",
    "        if (j != i ) :\n",
    "            f.write(format_arc(src=0,dst=0,src_sym=i,dst_sym=j,w=w))\n",
    "f.write('0\\n')\n",
    "f.close()\n"
   ]
  },
  {
   "cell_type": "markdown",
   "metadata": {},
   "source": [
    "γ)\n",
    "\n",
    "Επαναλαμβάνουμε τις ενέργειες που πραγματοποιήσαμε κατά τα υποερωτήματα 11α, 11β. Έτσι, έχουμε ότι το βάρος των edits (εισαγωγή και διαγραφή κάποιου χαρακτήρα) του char level Transducer ισούται με τον αρνητικό λογάριθμο της μέσης τιμής της πιθανότητας εμφάνισης κάθε χαρακτήρα.\n"
   ]
  },
  {
   "cell_type": "code",
   "execution_count": 65,
   "metadata": {},
   "outputs": [],
   "source": [
    "temp = 0 \n",
    "temp = sum(symbol_dict.values())/len(symbol_dict)\n",
    "wuni =-math.log(temp)\n",
    "\n",
    "f = open('uni_tran.txt', 'w+')\n",
    "for i in symbols :\n",
    "    if (i != '<epsilon>') :\n",
    "        f.write(format_arc(src=0,dst=0,src_sym=i,dst_sym=i,w=0))\n",
    "    for j in symbols :\n",
    "        if (j != i ) :\n",
    "            f.write(format_arc(src=0,dst=0,src_sym=i,dst_sym=j,w=wuni))\n",
    "f.write('0\\n')\n",
    "f.close()"
   ]
  },
  {
   "cell_type": "markdown",
   "metadata": {},
   "source": [
    "Για την ολοκλήρωση της κατασκεύης των 2 Transducer κάνουμε, όπως και παραπάνω, compile τα .txt αρχεία προκειμένου να δημιουργήσουμε τα αντίστοιχα .fst αρχεία τους.\n",
    "\n",
    "Αυτή η μέθοδος απλά διασφαλίζει οτι οι τιμές των μετατροπών θα είναι συγκρίσιμες με τις τιμές στους αποδοχείς ώστε να μην δημιουργείται bias κατά \"ακριβών\" λέξεων αλλά ούτε να επιλέγεται πάντα η λέξη με τις λιγότερες μετατροπές.\n",
    "Ωστόσο συνεχίζουμε να δίνουμε σε όλες τις μετατροπές το ίδιο βάρος. Όπως αναφέραμε στην προεργασία αν είχαμε αρκετά μεγάλο corpus με λάθη θα μπορούσαμε να καταστήσουμε πιο φθηνές τις μετατροπές που αντιστοιχούν σε συχνότερα λάθη, έτσι ώστε να υπάρχει εξάρτηση του βάρους από τον τύπο της μετατροπής αλλά και από τα γράμματα που συμμετέχουν. Σε ένα ακόμα πιο σύνθετο μοντέλο τα βάρη θα μπορούσαν να εξαρώνται από το context του εκάτοτε γράμματος."
   ]
  },
  {
   "cell_type": "code",
   "execution_count": 66,
   "metadata": {},
   "outputs": [],
   "source": [
    "%%bash \n",
    "\n",
    "fstcompile -isymbols=chars.syms -osymbols=chars.syms new_tran.txt > transducer.fst;\n",
    "fstcompile -isymbols=chars.syms -osymbols=chars.syms uni_tran.txt > uni_transducer.fst;"
   ]
  },
  {
   "cell_type": "markdown",
   "metadata": {},
   "source": [
    "## Βήμα 12ο \n",
    "\n",
    "α)\n",
    "\n",
    "Σε πλήρη αναλογία με τις ενέργειες που πραγματοποιήσαμε στο βήμα 6 της προεργασίας , δημιουργούμε και εδώ 2 αποδεχείς για την κάθε λέξη του κειμένου μας. Ωστόσο, αυτή την φορά  δεν θεωρούμε πως ο word level αποδοχέας αποδέχεται την κάθε λέξη με μηδενικό βάρος. Αντίθετα, στον word level αποδοχέα , κάθε λέξη γίνεται δεκτή με βάρος ίσο με τον αρνητικό λογάριθμο της πιθανότητας εμφάνισής της. Κατα την κατασκεύη του συγκεκριμένου αποδοχέα, αποδίδουμε ολό το βάρος της λέξης στην πρώτο ακμή , ένω όλες οι υπόλοιπες ακμές (που δεν ξεκικάνε από την αρχική κατάσταση) έχουν πάλι βάρος μηδέν. "
   ]
  },
  {
   "cell_type": "code",
   "execution_count": 67,
   "metadata": {},
   "outputs": [],
   "source": [
    "\n",
    "f = open('new_fsa.txt' , 'w+')\n",
    "cnt = 0\n",
    "#print(lexicon[1600:1621])\n",
    "for word in lexicon:\n",
    "    if len(word)>1:\n",
    "        f.write(format_arc(src=0,dst=cnt+1,src_sym=word[0],dst_sym=word[0],w=-math.log(word_dict[word])))\n",
    "        for j in range(cnt+2,len(word)+cnt+1):\n",
    "            f.write(format_arc(src=j-1,dst=j,src_sym=word[j-cnt-1],dst_sym=word[j-cnt-1],w=0))    \n",
    "        cnt = j+1\n",
    "    #f.write(format_arc(src=cnt,dst=0,src_sym='<epsilon>',dst_sym='<epsilon>',w=0))\n",
    "        f.write('{}\\n'.format(cnt-1))\n",
    "    else :\n",
    "        f.write(format_arc(src=0,dst=cnt+1,src_sym=word[0],dst_sym=word[0],w=-math.log(word_dict[word])))\n",
    "        cnt+=1\n",
    "        f.write('{}\\n'.format(cnt))\n",
    "f.close()\n"
   ]
  },
  {
   "cell_type": "markdown",
   "metadata": {},
   "source": [
    "β) \n",
    "\n",
    "Στην συνέχεια, κάνουμε compile το .txt αρχείο που παράξαμε και έπειτα βελτιστοποιούμε τον αποδεχέα μας καλώντας τις εντολές fstrmepsilon , fstdeterminize, fstminize"
   ]
  },
  {
   "cell_type": "code",
   "execution_count": 68,
   "metadata": {},
   "outputs": [],
   "source": [
    "%%bash \n",
    "\n",
    "fstcompile -isymbols=chars.syms -osymbols=chars.syms new_fsa.txt > new_fsa.fst;\n",
    "\n",
    "fstdeterminize new_fsa.fst > new_fsadet.fst \n",
    "fstminimize new_fsadet.fst > new_fsamin.fst "
   ]
  },
  {
   "cell_type": "markdown",
   "metadata": {},
   "source": [
    "γ) \n",
    "\n",
    "Επαναλαμβάνουμε την ίδια διαδικάσια για την κατασκεύη και βελτιστοποίησει του char level αποδοχέα. Σε αύτη την περίπτωση ,ωστόσο, δεν αποδίδουμε ολοκληρό το βάρος της λέξης στην ακμή που ξεκινάει απο την αρχικά κατάσταση. Αντίθετα, το βάρος κάθε ακμής του εν λόγω αποδοχέα ισούται με τον αρνητικό λογάριθμο της πιθανότητας εμφάνισης του χαρακτήρα που πυροδοτεί την αντίστοιχη μετάβαση."
   ]
  },
  {
   "cell_type": "code",
   "execution_count": 69,
   "metadata": {},
   "outputs": [],
   "source": [
    "f = open('uni_fsa.txt' , 'w+')\n",
    "cnt = 0\n",
    "#print(lexicon[1600:1621])\n",
    "for word in lexicon:\n",
    "    if len(word)>1:\n",
    "        f.write(format_arc(src=0,dst=cnt+1,src_sym=word[0],dst_sym=word[0],w=-math.log(symbol_dict[word[0]])))\n",
    "        for j in range(cnt+2,len(word)+cnt+1):\n",
    "            f.write(format_arc(src=j-1,dst=j,src_sym=word[j-cnt-1],dst_sym=word[j-cnt-1],w=(-math.log(symbol_dict[word[j-cnt-1]]))/len(word)))    \n",
    "        cnt = j+1\n",
    "    #f.write(format_arc(src=cnt,dst=0,src_sym='<epsilon>',dst_sym='<epsilon>',w=0))\n",
    "        f.write('{}\\n'.format(cnt-1))\n",
    "    else :\n",
    "        f.write(format_arc(src=0,dst=cnt+1,src_sym=word[0],dst_sym=word[0],w=-math.log(symbol_dict[word[0]])))\n",
    "        cnt+=1\n",
    "        f.write('{}\\n'.format(cnt))\n",
    "f.close()"
   ]
  },
  {
   "cell_type": "code",
   "execution_count": 70,
   "metadata": {},
   "outputs": [],
   "source": [
    "%%bash \n",
    "\n",
    "\n",
    "fstcompile -isymbols=chars.syms -osymbols=chars.syms uni_fsa.txt > uni_fsa.fst \n",
    "\n",
    "fstdeterminize uni_fsa.fst > uni_fsadet.fst \n",
    "fstminimize uni_fsadet.fst > uni_fsamin.fst "
   ]
  },
  {
   "cell_type": "markdown",
   "metadata": {},
   "source": [
    "## Βήμα 13ο \n",
    "\n",
    "α) \n",
    "\n",
    "Ακολουθώντας την ίδια διαδικασία με αυτή στο βήμα 7 της προεργασίας, συνθέτουμε τον word level Transducer με τον word level αποδοχέα κατασκευάζοντας έτσι τον νέο μας spell checker ο οποίος διορθώνει τις λέξεις λαμβάνοντας υπόψην και την πιθανότητα εμφάνισης κάθε λέξης μέσα στο λεξικό μας."
   ]
  },
  {
   "cell_type": "code",
   "execution_count": 72,
   "metadata": {},
   "outputs": [],
   "source": [
    "%%bash\n",
    "\n",
    "fstarcsort --sort_type=olabel transducer.fst transducer.fst \n",
    "fstarcsort --sort_type=ilabel new_fsamin.fst new_fsamin.fst \n",
    "\n",
    "fstcompose transducer.fst new_fsamin.fst ncomp.fst "
   ]
  },
  {
   "cell_type": "markdown",
   "metadata": {},
   "source": [
    "β) \n",
    "\n",
    "Επαναλαμβάνουμε τα βήματα του υποερωτήματος α) και αυτή την φορά συνθέτουμε τον word level Transducer με τον unigram αποδοχέα"
   ]
  },
  {
   "cell_type": "code",
   "execution_count": 73,
   "metadata": {},
   "outputs": [],
   "source": [
    "%%bash \n",
    "\n",
    "fstarcsort --sort_type=ilabel uni_fsamin.fst uni_fsamin.fst \n",
    "\n",
    "fstcompose transducer.fst uni_fsamin.fst ucomp.fst\n"
   ]
  },
  {
   "cell_type": "markdown",
   "metadata": {},
   "source": [
    "### Σημέιωση : \n",
    "Tα παρακάτω 2 cells αποτελούν υλοποίηση για την εισαγωγή λέξεων από τον χρήστη . Παρακάτω ακολουθεί υλοποίηση για αξιολόγηση των 2 spell checker εξετάζοντας όλες τις λέξεις του από το δοθέν αρχείο."
   ]
  },
  {
   "cell_type": "code",
   "execution_count": 74,
   "metadata": {},
   "outputs": [
    {
     "name": "stdout",
     "output_type": "stream",
     "text": [
      "not found\n"
     ]
    }
   ],
   "source": [
    "letters = 'cit'\n",
    "if letters not in lexicon:\n",
    "    print('not found')\n",
    "else:\n",
    "    print(lexicon.index(letters))\n",
    "fi = open('input1.txt','w+')\n",
    "fi.write(format_arc(src=0,dst=1,src_sym=letters[0],dst_sym=letters[0],w=0))\n",
    "for j in range(2,len(letters)+1):\n",
    "    fi.write(format_arc(src=j-1,dst=j,src_sym=letters[j-1],dst_sym=letters[j-1],w=0))    \n",
    "    #f.write(format_arc(src=cnt,dst=0,src_sym='<epsilon>',dst_sym='<epsilon>',w=0))\n",
    "fi.write('{}\\n'.format(j))\n",
    "fi.close()   \n"
   ]
  },
  {
   "cell_type": "code",
   "execution_count": 75,
   "metadata": {},
   "outputs": [
    {
     "name": "stdout",
     "output_type": "stream",
     "text": [
      "it \n",
      "wit"
     ]
    }
   ],
   "source": [
    "%%bash \n",
    "\n",
    "fstcompile -isymbols=chars.syms -osymbols=chars.syms input1.txt > word.fst;\n",
    "fstcompose word.fst ncomp.fst final.fst \n",
    "fstshortestpath final.fst > out1.fst \n",
    "fstdraw --isymbols=chars.syms --osymbols=chars.syms -portrait out1.fst| dot -Tpng >out_WL.png\n",
    "\n",
    "fstcompose word.fst ucomp.fst ufinal.fst \n",
    "fstshortestpath ufinal.fst > out2.fst \n",
    "fsttopsort out2.fst out2.fst \n",
    "fsttopsort out1.fst out1.fst \n",
    "fstdraw --isymbols=chars.syms --osymbols=chars.syms -portrait out2.fst| dot -Tpng >out_Uni.png\n",
    "fstprint --osymbols=chars.syms out2.fst | cut -f4 | grep -v \"<epsilon>\"|tr -d [:digit:]|tr -d '\\n'\n",
    "echo ' '\n",
    "fstprint --osymbols=chars.syms out1.fst | cut -f4 | grep -v \"<epsilon>\"|tr -d [:digit:]| tr -d '\\n'\n",
    "\n"
   ]
  },
  {
   "cell_type": "markdown",
   "metadata": {},
   "source": [
    "*Eπεξήγηση : η πάνω  λέξη είναι η πρόβλεψη του unigram spell checker και η κάτω λέξη του word level\n",
    "\n",
    "Tόσο ο word level spell checker όσο και ο unigram πρόβλεπουν λάθος την λέξη.\n",
    "\n",
    "Για τον word level :\n",
    "\n",
    "Με την fstcompose τα βάρη αθροίζονται (log semiring), δηλαδή προκύπτει η λέξη για την οποία το άθροισμα των μετατροπών και το -log(P(W)), γίνονται ελάχιστα. Όπως φαίνεται έχει επιλεγεί η λέξη it έχει μεγαλύτερη συχνότητα εμφάνισης από την sit. Έτσι αφού χρειαζόμαστε 1 μετατροπή για να φτάσουμε σε οποιαδήποτε από τις δύο επιλέγεται η πιο \"φθηνή\".\n",
    "Ισχύει γενικά Βάρος = -#insertions*log(P(ins)) - #deletions*log(P(dels)) - #substitions*log(P(subs)) - log(P(W))\n",
    "\n",
    "Για τον unigram :\n",
    "Εδώ δεν πληρώνουμε την συχνότητα της λέξης αλλά το μήκος της. Καθώς όπως είπαμε τα βάρη δρουν αθροιστικά, έτσι για το sit θα έπρεπε να πληρώσουμε εκτός από το βάρος της μετατροπής του c σε s, το οποίο είναι ίδιο με τη διαγραφή του c, αλλά και το βάρος του s. Το πρόβλημα λοιπόν με το unigram μοντέλο είναι οτι πολύ συχνά οι μικρότερες λέξεις, όσο τους επιτρέπουν οι μετατροπές, αποκτούν προβάδισμα έναντι μεγαλύτερών τους.\n",
    "Ισχύει γενικά Βάρος = -#insertions*log(P(ins)) - #deletions*log(P(dels)) - #substitions*log(P(subs)) - log(P(w1) - log(P(w2)) - ... - log(P(wN))"
   ]
  },
  {
   "cell_type": "markdown",
   "metadata": {},
   "source": [
    "## Βήμα 14ο \n",
    "\n",
    "α) \n",
    "\n",
    "Κατεβάζουμε το σύνολο των Evaluation δεδομένων που δίνονται  και τα αποθηκεύουμε σε ένα αρχείο test.txt\n",
    "\n",
    "β) \n",
    "\n",
    "Στην συνέχεια διάβαζουμε το αρχείο με τα δεδομένα αξιολόγησης και με την βοήθεια της συνάρτησης που γράψαμε κατά το 2ο βήμα της προεργασίας λαμβάνουμε τα tokens σε κάθε γραμμή και τα αποθηκεύουμε σε μια λίστα . Το σύνολο των λιστών με τα tokens κάθε γραμμής τα αποθηκεύουμε όλα μάζι σε μια άλλη λίστα. Στην συνέχεια, δημιουργούμε έναν αποδοχέα για κάθε λάθος λέξη που υπάρχει μέσα στο αρχείο. Συνεχίζοντας, με την subprocess δημιουργούμε διεργασίες οι οποίες κάνουν compile όλους τους αποδοχείς των λέξεων και στην συνέχεια τους συνθέτουν αφενός με τον word level ορθογράφο που δημιουργήσαμε στο βήμα 13α και αφετέρου με τον ορθογράφο που δημιουργήσαμε στο 13β. Τέλος, για κάθε σύνθεση που έχει δημιουργηθεί βρίσκουμε το μονοπάτι με το μικρότερο μήκος και αυτό είναι η βέλτιστη πρόβλεψη των ορθογράφων. "
   ]
  },
  {
   "cell_type": "code",
   "execution_count": 76,
   "metadata": {
    "scrolled": true
   },
   "outputs": [
    {
     "data": {
      "text/plain": [
       "CompletedProcess(args='i=1; while [ $i -lt 271 ]; do fstshortestpath ufinal_$i.fst >uout_$i.fst;fstrmepsilon uout_$i.fst uout_$i.fst;fsttopsort uout_$i.fst uout_$i.fst;fstprint -osymbols=chars.syms uout_$i.fst >> uoutput.txt ;echo $i;i=`expr $i + 1`;  done', returncode=0)"
      ]
     },
     "execution_count": 76,
     "metadata": {},
     "output_type": "execute_result"
    }
   ],
   "source": [
    "f = open('test.txt','r+')\n",
    "tests = f.readlines()\n",
    "f.close()\n",
    "cases=[]\n",
    "cnt = 1\n",
    "for x in tests:\n",
    "    cases.append(tokenize(x))\n",
    "for x in cases:\n",
    "    for index in range(1,len(x)):\n",
    "        word = x[index]\n",
    "#         print(word)\n",
    "        fi = open('input_{}.txt'.format(cnt),'w+')\n",
    "        fi.write(format_arc(src=0,dst=1,src_sym=word[0],dst_sym=word[0],w=0))\n",
    "        for j in range(2,len(word)+1):\n",
    "            fi.write(format_arc(src=j-1,dst=j,src_sym=word[j-1],dst_sym=word[j-1],w=0))    \n",
    "            #f.write(format_arc(src=cnt,dst=0,src_sym='<epsilon>',dst_sym='<epsilon>',w=0))\n",
    "        fi.write('{}\\n'.format(j))\n",
    "        fi.close()   \n",
    "        cnt+=1\n",
    "subprocess.run('i=1; while [ $i -lt 271 ]; do fstcompile -isymbols=chars.syms -osymbols=chars.syms input_$i.txt > word_$i.fst; i=`expr $i + 1`;  done', shell=True)\n",
    "subprocess.run('i=1; while [ $i -lt 271 ]; do fstcompose word_$i.fst ncomp.fst nfinal_$i.fst;echo $i; i=`expr $i + 1`;  done', shell=True)\n",
    "subprocess.run('i=1; while [ $i -lt 271 ]; do fstcompose word_$i.fst ucomp.fst ufinal_$i.fst;echo $i; i=`expr $i + 1`;  done', shell=True)\n",
    "f = open('noutput.txt','w+')\n",
    "f.close()\n",
    "f = open('uoutput.txt','w+')\n",
    "f.close()\n",
    "subprocess.run('i=1; while [ $i -lt 271 ]; do fstshortestpath nfinal_$i.fst >nout_$i.fst;fstrmepsilon nout_$i.fst nout_$i.fst;fsttopsort nout_$i.fst nout_$i.fst;fstprint -osymbols=chars.syms nout_$i.fst >> noutput.txt ;echo $i;i=`expr $i + 1`;  done', shell=True)\n",
    "subprocess.run('i=1; while [ $i -lt 271 ]; do fstshortestpath ufinal_$i.fst >uout_$i.fst;fstrmepsilon uout_$i.fst uout_$i.fst;fsttopsort uout_$i.fst uout_$i.fst;fstprint -osymbols=chars.syms uout_$i.fst >> uoutput.txt ;echo $i;i=`expr $i + 1`;  done', shell=True)\n",
    "\n"
   ]
  },
  {
   "cell_type": "markdown",
   "metadata": {},
   "source": [
    "Με τις εντολές που ακολουθούν επεξεργαζόμαστε κατάλληλα το αρχείο .txt που μόλις δημιουργήσαμε , έτσι ώστε να κρατήσουμε μόνο τις λέξεις που προβλέπει ο κάθε ορθογράφος. Αφού απομονώσουμε τις προβλέψεις των ορθογράφων , τις αποθηκεύουμε σε μια λίστα ( ομοίως μια λίστα για κάθε ορθογράφο ). Στην συνέχεια, αποθηκεύουμε τις βέλτιστες λύσεις σε ένα αρχείο .txt ( ένα για κάθε ορθογράφο) . Τέλος, διατρέχουμε αυτή την λίστα και εξετάζουμε αν οι προβλέψεις αντιστοιχούν στις \"σωστές\" λέξεις , αθροίζουμε τις σωστές προβλέψεις και διαίρουμε με το πλήθος των λέξεων για να βρούμε το ποσοστό των σωστών προβλέψεων κάθε ορθογράφου. "
   ]
  },
  {
   "cell_type": "code",
   "execution_count": 77,
   "metadata": {},
   "outputs": [],
   "source": [
    "%%bash\n",
    "\n",
    "grep -v \"<epsilon>\" noutput.txt > nout1.txt\n",
    "#cut -f 4 nout1.txt > nout2.txt\n",
    "cat nout1.txt | tr  -d [:digit:]  > nout2.txt\n",
    "cat nout2.txt | tr  -d \".\" > nout3.txt\n",
    "cut -f 4 nout3.txt > nout4.txt\n",
    "#cat nout2.txt | tr -d \"\\n\" > nout3.txt\n",
    "\n",
    "grep -v \"<epsilon>\" uoutput.txt > uout1.txt\n",
    "#cut -f 4 nout1.txt > nout2.txt\n",
    "cat uout1.txt | tr  -d [:digit:]  > uout2.txt\n",
    "cat uout2.txt | tr  -d \".\" > uout3.txt\n",
    "cut -f 4 uout3.txt > uout4.txt"
   ]
  },
  {
   "cell_type": "code",
   "execution_count": 79,
   "metadata": {
    "scrolled": true
   },
   "outputs": [
    {
     "name": "stdout",
     "output_type": "stream",
     "text": [
      "The accuracy of word level spell checker is : 0.6394052044609665\n",
      "The accuracy of unigram spell checker is : 0.5836431226765799\n"
     ]
    }
   ],
   "source": [
    "f = open(\"nout4.txt\",\"r\")\n",
    "s = f.readlines()\n",
    "f.close()\n",
    "nout= []\n",
    "for element in s:\n",
    "    nout.append(element[0])\n",
    "f = open('nout_final.txt','w+')\n",
    "for char in nout:\n",
    "    f.write(char)\n",
    "f.close()\n",
    "\n",
    "f = open(\"uout4.txt\",\"r\")\n",
    "s = f.readlines()\n",
    "f.close()\n",
    "uout= []\n",
    "for element in s:\n",
    "    uout.append(element[0])\n",
    "f = open('uout_final.txt','w+')\n",
    "for char in uout:\n",
    "    f.write(char)\n",
    "\n",
    "f = open('nout_final.txt','r')\n",
    "npred = f.readlines()\n",
    "ntemp =[]\n",
    "nright = 0\n",
    "cnt = 0\n",
    "f.close()\n",
    "for x in npred:\n",
    "    ntemp+=(tokenize(x))\n",
    "for i in cases:\n",
    "#     print(i[0])\n",
    "    for j in range(cnt,len(i)+cnt-1):\n",
    "#         if j<=len(temp)-1:\n",
    "            if ntemp[j]==i[0]:\n",
    "                nright+=1\n",
    "    cnt=j+1\n",
    "print('The accuracy of word level spell checker is :',nright/(len(ntemp)-1))\n",
    "f = open('uout_final.txt','r')\n",
    "upred = f.readlines()\n",
    "utemp =[]\n",
    "uright = 0\n",
    "cnt = 0\n",
    "\n",
    "for x in upred:\n",
    "    utemp+=(tokenize(x))\n",
    "for i in cases:\n",
    "#     print(i[0])\n",
    "    for j in range(cnt,len(i)+cnt-1):\n",
    "#         if j<=len(temp)-1:\n",
    "            if utemp[j]==i[0]:\n",
    "                uright+=1\n",
    "    cnt=j+1\n",
    "print('The accuracy of unigram spell checker is :',uright/(len(utemp)-1))"
   ]
  },
  {
   "cell_type": "markdown",
   "metadata": {},
   "source": [
    "γ) \n",
    "\n",
    "Μετά την ολοκλήρωση της αξιολόγησης των παραπάνω δύο ορθογράφων, προκύπτουν τα εξής αποτελέσματα : \n",
    "Για τον word level spell checker έχουμε ποσοστό σωστών προβλέψεων 63.94% , ενώ για τον unigram spell checker έχουμε ποσοστό σωστών προβλέψεων ίσο με 58.36% . Από τα παραπάνω ποσοστό, παρατηρούμε πως ο word level ορθογράφος είναι καλύτερος συγκρητικά με τον αντίστοιχο unigram. Το παραπάνω αποτέλεσμα είναι, αναμμενόμενο κάθως στην περίπτωση του unigram ορθογράφου που η σώστη λέξη αποτελείται από σπάνιους χαρακτήρες , ο συγκεκριμένος ορθογράφος ,εξαιτίας του μεγάλου βάρους τον ακμών των edits που περιέχουν τους σπάνιους χαρακτήρες, θα προτιμήσει να διορθώσει την λέξη με χαρακτήρες που συνοδεύονται με ακμές χαμηλότερων βαρών και συνεπώς θα οδηγηθεί σε λάθος πρόβλεψει. Αντίθετα, ο word level ορθογράφος εξετάζει την πιθανότητα της λέξης ολόκληρης και συνεπώς για συνηθισμένες λέξεις θα έχει πολλή μεγαλή πιθανότητα να προβλέψει σωστά την λέξη."
   ]
  },
  {
   "cell_type": "markdown",
   "metadata": {},
   "source": [
    " # Μέρος 2\n",
    "\n",
    "Στο δεύτερο μέρος της άσκησης αυτής θα εστίασουμε την προσοχή μας στην χρήση λεξικών αναπαραστάσεων για την δημιουργία ενός ταξινομητή συναισθήματος. Συγκεκριμένα, ως δεδομένα θα λάβουμε ορισμένες κριτικές για ταινίες από την σελίδα IMDB και προσπαθήσουμε να κατασκευάσουμε έναν ταξινομητή που θα μπορεί να ξεχωρίσει τα θετικά από τα αρνητικά σχόλια. \n"
   ]
  },
  {
   "cell_type": "markdown",
   "metadata": {},
   "source": [
    "## Βήμα 16ο \n",
    "\n",
    "α) \n",
    "\n",
    "Αρχικά κατεβάζουμε τα δεδομένα που αναφέρονται στην εκφώνηση της άσκησης. Τα δεδομένα αυτά είναι  διαχωρισμένα σε  trainning set data  και test set data . Επιπλέον, στους επιμέρους φακέλους τα δεδομένα είναι επίσης διαχωρισμένα σε θετικά και αρνητικά σχόλια.\n",
    "\n",
    "β)\n",
    "\n",
    "Για την προεπεξεργασία των σχολίων ορίζουμε τις παρακάτω συναρτήσεις, μέσω των οποίων μπορούμε να πραγματοποιήσουμε το tokenization των σχολιών , αλλά και να δημιουργήσουμε ένα ενιαίο corpus που θα περιέχει ανακατεμένα τα σχολία."
   ]
  },
  {
   "cell_type": "code",
   "execution_count": 20,
   "metadata": {},
   "outputs": [],
   "source": [
    "import os\n",
    "\n",
    "data_dir = './aclImdb/'\n",
    "train_dir = os.path.join(data_dir, 'train')\n",
    "test_dir = os.path.join(data_dir, 'test')\n",
    "pos_train_dir = os.path.join(train_dir, 'pos')\n",
    "neg_train_dir = os.path.join(train_dir, 'neg')\n",
    "pos_test_dir = os.path.join(test_dir, 'pos')\n",
    "neg_test_dir = os.path.join(test_dir, 'neg')\n",
    "\n",
    "# For memory limitations. These parameters fit in 8GB of RAM.\n",
    "# If you have 16G of RAM you can experiment with the full dataset / W2V\n",
    "MAX_NUM_SAMPLES = 12500\n",
    "# Load first 1M word embeddings. This works because GoogleNews are roughly\n",
    "# sorted from most frequent to least frequent.\n",
    "# It may yield much worse results for other embeddings corpora\n",
    "NUM_W2V_TO_LOAD = 1000000\n",
    "\n",
    "import numpy as np\n",
    "\n",
    "SEED = 42\n",
    "\n",
    "# Fix numpy random seed for reproducibility\n",
    "np.random.seed(42)\n",
    "\n",
    "try:\n",
    "    import glob2 as glob\n",
    "except ImportError:\n",
    "    import glob\n",
    "\n",
    "import re\n",
    "\n",
    "def strip_punctuation(s):\n",
    "    return re.sub(r'[^a-zA-Z\\s]', ' ', s)\n",
    "\n",
    "def preprocess(s):\n",
    "    return re.sub('\\s+',' ', strip_punctuation(s).lower())\n",
    "\n",
    "def tokenize(s):\n",
    "    return s.split(' ')\n",
    "\n",
    "def preproc_tok(s):\n",
    "    return tokenize(preprocess(s))\n",
    "\n",
    "def read_samples(folder, preprocess=lambda x: x):\n",
    "    samples = glob.iglob(os.path.join(folder, '*.txt'))\n",
    "    data = []\n",
    "    for i, sample in enumerate(samples):\n",
    "        if MAX_NUM_SAMPLES > 0 and i == MAX_NUM_SAMPLES:\n",
    "            break\n",
    "        with open(sample, 'r',encoding='latin-1') as fd:\n",
    "            x = [preprocess(l) for l in fd][0]\n",
    "            data.append(x)\n",
    "    return data\n",
    "\n",
    "def create_corpus(pos, neg):\n",
    "    corpus = np.array(pos + neg)\n",
    "    y = np.array([1 for _ in pos] + [0 for _ in neg])\n",
    "    indices = np.arange(y.shape[0])\n",
    "    np.random.shuffle(indices)\n",
    "    return list(corpus[indices]), list(y[indices])"
   ]
  },
  {
   "cell_type": "markdown",
   "metadata": {},
   "source": [
    "Με τις παρακάτω εντολές έχουμε δημιουργήσει λίστες που περιέχουν ως string ολόκληρα τα σχόλια θετικά και αρνητικά , τόσο για το training set όσο και για το test set "
   ]
  },
  {
   "cell_type": "code",
   "execution_count": 21,
   "metadata": {},
   "outputs": [],
   "source": [
    "pos_train = read_samples(pos_train_dir)\n",
    "neg_train = read_samples(neg_train_dir)\n",
    "pos_test = read_samples(pos_test_dir)\n",
    "neg_test = read_samples(neg_test_dir,)\n",
    "(corpus, y) = create_corpus(pos_train,neg_train)\n",
    "(test_corp,test_y) = create_corpus(pos_test,neg_test)"
   ]
  },
  {
   "cell_type": "markdown",
   "metadata": {},
   "source": [
    "## Βήμα 17ο \n",
    "\n",
    "α) \n",
    "\n",
    "TF-IDF Χρησιμοποιούμε BOW αναπαραστάσεις για να βρούμε τις φορές εμφάνισης κάθε λέξης σε μία κριτική. Αυτό αποτελεί μία ένδειξη της σημασίας της λέξης για το κείμενο. Ωστόσο η σημασία της λέξης δεν φαίνεται μόνο από τη συχνότητα της στο κείμενο αλλά και από την συχνότητα εμφανισής της σε άλλα κείμενα. Όσο σπανιότερα εμφανίζεται μία λέξη γενικά τόσο πιο σημαντικό το γεγονός της εμφάνισης της σε ένα κείμενο, καθώς αποτελεί μέσο διαχωρισμού του από τα υπόλοιπα. Αντίστροφα η εμφάνιση μίας λέξης που εμφανίζεται πάντα, όπως η λέξη \"the\" δεν προσφέρει κάτι το ιδιαίτερο στην κατηγοριοποίηση του κειμένου, οπότε δεν πρέπει να επηρεάζεται η επεξεργασία του από την εμφάνισή της.\n",
    "Για τον λόγο αυτό χρησιμοποιούνται τα βάρη TF-IDF. Ο term frequency tf(t, d) είναι ενδεικτικός των εμφανίσεων της λέξης στο κείμενο και συνήθως είναι η συχνότητα εμφάνισής της, δηλαδή ο αριθμός φορών εμφάνισής της δια τον συνολικό αριθμό λέξεων στο κείμενο, δηλαδή αντίστοιχο του BOW. Ο όρος inverse document frequency υλοποιεί αυτό που είπαμε παραπάνω, idf(t, D) ισούται με τον λογάριθμο του συνολικού αριθμού των κειμένων δια των αριθμό των κειμένων στα οποία εμφανίζεται η λέξη. Έτσι η λέξη \"the\", που λογικά εμφανίζεται σε κάθε κείμενο έχει idf(\"the\", D) = 0 και αυτό σημαίνει οτι η εμφανισή της δεν προσφέρει καμία πληροφορία, tfidf(\"the\", D) = tf(\"the\", d)*idf(\"the\", D) = 0. Αντίστροφα όσο λιγότερα τα κείμενα στα οποία εμφανίζεται μία λέξη τόσο μεγαλύτερη η σημασία της όταν εμφανίζεται, άρα τόσο μεγαλύτερος και ο όρος ifd(\"the\", D).\n",
    "\n",
    "β) \n",
    "\n",
    "Αρχικά, χρησιμοποιούμε τον CountVectorizer ο οποίος δημιουργεί one hot vector αναπαραστάσεις για την κάθε λέξη που περιέχεται στο corpus μας ,αποδίδοντας στην κάθε αναπαράσταση βάρος ανάλογο του της συχνότητας εμφάνισης αυτής της λέξης "
   ]
  },
  {
   "cell_type": "code",
   "execution_count": 22,
   "metadata": {},
   "outputs": [],
   "source": [
    "from sklearn.feature_extraction.text import CountVectorizer\n",
    "from sklearn.pipeline import Pipeline\n",
    "from sklearn.metrics import classification_report\n",
    "from sklearn.linear_model import LogisticRegression\n",
    "\n",
    "pipeline = Pipeline([('bow',CountVectorizer()),\n",
    "                    ('classifier',LogisticRegression())])"
   ]
  },
  {
   "cell_type": "markdown",
   "metadata": {},
   "source": [
    "γ) \n",
    "\n",
    "Στην συνέχεια, με βάση το Bag of Words που δημιουργήθηκε από τον CountVectorizer εκπαιδεύουμε έναν logistic regression ταξινομήτη με βάση τα δεδομένα του training set. Στην συνέχεια, φορτώνουμε στον ταξινομητή τα δεδομένα από το test set και αποθηκεύουμε τις προβλέψεις του στην μεταβλητή predictions. Tέλος, συγκρίνουμε τα labels που προέβλεψε ο classifier με αυτά που θα έπρεπε να είχε βρει με την εντολή accuracy_score() και έτσι βρίσκουμε πως το ποσοστό των επιτυχημένων προβλέψεων του Logistic Regression ταξινομητή μας είναι 86.696%"
   ]
  },
  {
   "cell_type": "code",
   "execution_count": 23,
   "metadata": {},
   "outputs": [
    {
     "name": "stderr",
     "output_type": "stream",
     "text": [
      "/usr/local/lib/python3.6/dist-packages/sklearn/linear_model/logistic.py:432: FutureWarning: Default solver will be changed to 'lbfgs' in 0.22. Specify a solver to silence this warning.\n",
      "  FutureWarning)\n"
     ]
    },
    {
     "name": "stdout",
     "output_type": "stream",
     "text": [
      "              precision    recall  f1-score   support\n",
      "\n",
      "           0       0.87      0.86      0.87     12694\n",
      "           1       0.86      0.87      0.87     12306\n",
      "\n",
      "    accuracy                           0.87     25000\n",
      "   macro avg       0.87      0.87      0.87     25000\n",
      "weighted avg       0.87      0.87      0.87     25000\n",
      "\n"
     ]
    }
   ],
   "source": [
    "\n",
    "from sklearn.metrics import accuracy_score \n",
    "\n",
    "pipeline.fit(corpus,y)\n",
    "predictions = pipeline.predict(test_corp)\n",
    "\n",
    "test_y = np.asarray(test_y)\n",
    "print(classification_report(predictions,test_y.flatten()))"
   ]
  },
  {
   "cell_type": "markdown",
   "metadata": {},
   "source": [
    "δ) \n",
    "\n",
    "Επαναλαμβάνουμε την ίδια διαδικασία μόνο που αυτή την φόρα αντι του CountVectorizer χρησιμοποιούμε τον TfidfVectorizer o οποίος στα one hot vector που παράγει αποδίδει tf-idf βάρη, όπως συνοπτικά περιγράψαμε στο α) ερώτημα. Στην συνεχεία με βάση τα νέα διανυσμάτα εκπαιδεύουμε τον ταξινομήτη μας και η ακρίβειά του αυτήτ την φορά ισούται με 88.28% . \n",
    "\n",
    "Η αύξηση αυτή της ακριβείας του ταξινομητή είναι αναμμενόμενη, κάθως όπως αναφέραμε και παραπάνω με την χρήση των  tf-idf βαρών γίνεται καλύτερη επιλογή features τα οποία θα επηρεάσουν την τελική απόφαση του εκτιμητή."
   ]
  },
  {
   "cell_type": "code",
   "execution_count": 24,
   "metadata": {},
   "outputs": [
    {
     "name": "stderr",
     "output_type": "stream",
     "text": [
      "/usr/local/lib/python3.6/dist-packages/sklearn/linear_model/logistic.py:432: FutureWarning: Default solver will be changed to 'lbfgs' in 0.22. Specify a solver to silence this warning.\n",
      "  FutureWarning)\n"
     ]
    },
    {
     "name": "stdout",
     "output_type": "stream",
     "text": [
      "              precision    recall  f1-score   support\n",
      "\n",
      "           0       0.88      0.88      0.88     12537\n",
      "           1       0.88      0.88      0.88     12463\n",
      "\n",
      "    accuracy                           0.88     25000\n",
      "   macro avg       0.88      0.88      0.88     25000\n",
      "weighted avg       0.88      0.88      0.88     25000\n",
      "\n"
     ]
    }
   ],
   "source": [
    "from sklearn.feature_extraction.text import TfidfVectorizer\n",
    "pipeline_tfidf = Pipeline([('bow',TfidfVectorizer()),\n",
    "                    ('classifier',LogisticRegression())])\n",
    "pipeline_tfidf.fit(corpus,y)\n",
    "predictions_tfidf = pipeline_tfidf.predict(test_corp)\n",
    "\n",
    "test_y = np.asarray(test_y)\n",
    "print(classification_report(predictions_tfidf,test_y.flatten()))"
   ]
  },
  {
   "cell_type": "markdown",
   "metadata": {},
   "source": [
    "## Βήμα 18 \n",
    "\n",
    "α) \n",
    "\n",
    "Στο σημείο αυτό υπολογίζουμε το ποσοστό των λέξεων από το σύνολο των δεδομένων το οποίο δεν περιέχεται στην στις word embeddings αναπαραστάσεις του μοντέλου μας."
   ]
  },
  {
   "cell_type": "code",
   "execution_count": 25,
   "metadata": {},
   "outputs": [
    {
     "name": "stdout",
     "output_type": "stream",
     "text": [
      "0.8652615575979545\n"
     ]
    }
   ],
   "source": [
    "l = []\n",
    "\n",
    "for critic in corpus and test_corp:\n",
    "    tokens = preproc_tok(critic)\n",
    "    for word in tokens:\n",
    "        l.append(word)\n",
    "\n",
    "l = list(set(l))\n",
    "\n",
    "oov = 0\n",
    "\n",
    "for word in l:\n",
    "    if word not in voc:\n",
    "        oov+=1\n",
    "rate = oov/len(l)\n",
    "print(rate)\n"
   ]
  },
  {
   "cell_type": "markdown",
   "metadata": {},
   "source": [
    "β) \n",
    "\n",
    "Με βάση τις αναπαραστάσεις που έχει παράξει το Word2Vec μοντέλο μας υπολογίζουμε τις αναπαραστάσεις των σχολιών τόσο για τα trainig data όσο και για τα test data. Σημειώνεται πως οι ΟΟV λέξεις θεωρούμε πως αναπαρίστανται απο το μηδενικό διάνυσμα "
   ]
  },
  {
   "cell_type": "code",
   "execution_count": 26,
   "metadata": {},
   "outputs": [],
   "source": [
    "def document_vector(word2vec_model, doc,voc):\n",
    "    # remove out-of-vocabulary words\n",
    "    doc = [word for word in doc if word in voc]\n",
    "    return np.mean(word2vec_model[doc], axis=0)"
   ]
  },
  {
   "cell_type": "code",
   "execution_count": 27,
   "metadata": {},
   "outputs": [
    {
     "name": "stderr",
     "output_type": "stream",
     "text": [
      "/usr/local/lib/python3.6/dist-packages/ipykernel_launcher.py:4: DeprecationWarning: Call to deprecated `__getitem__` (Method will be removed in 4.0.0, use self.wv.__getitem__() instead).\n",
      "  after removing the cwd from sys.path.\n"
     ]
    }
   ],
   "source": [
    "import pandas as pd\n",
    "\n",
    "corpus_train =  [0]*len(corpus)\n",
    "for i in range (0,len(corpus)):\n",
    "    corpus_train[i]=preproc_tok(corpus[i])\n",
    "    \n",
    "corpus_test = [0]*len(test_corp)\n",
    "for i in range (0,len(test_corp)):\n",
    "    corpus_test[i]=preproc_tok(test_corp[i])\n",
    "\n",
    "imdb_train= []\n",
    "for doc in corpus_train: #look up each doc in model\n",
    "    imdb_train.append(document_vector(model, doc,voc))\n",
    "df = pd.DataFrame(list(zip(y,imdb_train)),columns=[\"Y\", \"Comment\"])\n",
    "\n",
    "imdb_test = []\n",
    "for doc in corpus_test: #look up each doc in model\n",
    "    imdb_test.append(document_vector(model, doc,voc))\n",
    "df2= pd.DataFrame(list(zip(test_y,imdb_test)),columns=[\"Y\", \"Comment\"])"
   ]
  },
  {
   "cell_type": "code",
   "execution_count": 28,
   "metadata": {},
   "outputs": [
    {
     "name": "stderr",
     "output_type": "stream",
     "text": [
      "/usr/local/lib/python3.6/dist-packages/sklearn/linear_model/logistic.py:432: FutureWarning: Default solver will be changed to 'lbfgs' in 0.22. Specify a solver to silence this warning.\n",
      "  FutureWarning)\n"
     ]
    },
    {
     "name": "stdout",
     "output_type": "stream",
     "text": [
      "              precision    recall  f1-score   support\n",
      "\n",
      "           0       0.73      0.72      0.73     12663\n",
      "           1       0.72      0.73      0.73     12337\n",
      "\n",
      "    accuracy                           0.73     25000\n",
      "   macro avg       0.73      0.73      0.73     25000\n",
      "weighted avg       0.73      0.73      0.73     25000\n",
      "\n"
     ]
    }
   ],
   "source": [
    "logreg = LogisticRegression().fit(list(df[\"Comment\"]), df[\"Y\"])\n",
    "predict = logreg.predict(list(df2[\"Comment\"]))\n",
    "print (classification_report(predict,df2[\"Y\"]))"
   ]
  },
  {
   "cell_type": "markdown",
   "metadata": {},
   "source": [
    "γ)\n",
    "\n",
    "Στην συνέχεια κατεβάζουμε τα ήδη εκπαιδεύμενα Embeddings Google Νews και επαναλαμβάνουμε το ερώτημα 9γ "
   ]
  },
  {
   "cell_type": "code",
   "execution_count": 31,
   "metadata": {},
   "outputs": [
    {
     "name": "stderr",
     "output_type": "stream",
     "text": [
      "/usr/local/lib/python3.6/dist-packages/ipykernel_launcher.py:8: DeprecationWarning: Call to deprecated `wv` (Attribute will be removed in 4.0.0, use self instead).\n",
      "  \n"
     ]
    },
    {
     "name": "stdout",
     "output_type": "stream",
     "text": [
      "happy :  [('glad', 0.7408890128135681), ('pleased', 0.6632171273231506), ('ecstatic', 0.6626912355422974), ('overjoyed', 0.6599286794662476), ('thrilled', 0.6514049768447876), ('satisfied', 0.6437950134277344), ('proud', 0.636042058467865), ('delighted', 0.627237856388092), ('disappointed', 0.6269949674606323), ('excited', 0.6247666478157043)] \n",
      "\n",
      "man :  [('woman', 0.7664012908935547), ('boy', 0.6824870109558105), ('teenager', 0.6586930155754089), ('teenage_girl', 0.6147903800010681), ('girl', 0.5921714305877686), ('robber', 0.5585119128227234), ('Robbery_suspect', 0.5584409236907959), ('teen_ager', 0.5549196600914001), ('men', 0.5489763021469116), ('guy', 0.5420035123825073)] \n",
      "\n",
      "war :  [('wars', 0.748465895652771), ('War', 0.6410670280456543), ('invasion', 0.5892110466957092), ('Persian_Gulf_War', 0.5890660285949707), ('Vietnam_War', 0.5886474847793579), ('Iraq', 0.588599443435669), ('un_winnable', 0.560634970664978), ('occupation', 0.5506216287612915), ('conflict', 0.5506188273429871), ('hostilities', 0.542278528213501)] \n",
      "\n",
      "god :  [('gods', 0.7856107950210571), ('deity', 0.7325143218040466), ('God', 0.6662932634353638), ('diety', 0.6607768535614014), ('goddess', 0.6518735289573669), ('deities', 0.6512717008590698), ('lord', 0.6350281238555908), ('god_Zeus', 0.6218456029891968), ('Almighty', 0.6040672659873962), ('Gods', 0.6037753820419312)] \n",
      "\n",
      "pure :  [('purest', 0.6404690742492676), ('pure_unadulterated', 0.6205911040306091), ('unadulterated', 0.6159523725509644), ('purest_form', 0.5637120604515076), ('purer', 0.5554313063621521), ('sheer_unadulterated', 0.5243834257125854), ('undiluted', 0.5229929685592651), ('Pure', 0.5210856795310974), ('purely', 0.5128620862960815), ('purity', 0.4921991229057312)] \n",
      "\n",
      "holmes :  [('richards', 0.6899181604385376), ('mitchell', 0.6860136389732361), ('dunn', 0.6830223798751831), ('roberts', 0.6777061820030212), ('corey', 0.6757441163063049), ('bennett', 0.6757386922836304), ('joel', 0.6728412508964539), ('francis', 0.6679220199584961), ('williams', 0.6632819175720215), ('wallace', 0.6631795167922974)] \n",
      "\n",
      "wife :  [('husband', 0.8294167518615723), ('daughter', 0.7662220001220703), ('fiancée', 0.7583051919937134), ('mother', 0.7550681829452515), ('fiancee', 0.7449482679367065), ('daughters', 0.7342472076416016), ('girlfriend', 0.7102157473564148), ('niece', 0.7085861563682556), ('estranged_wife', 0.7017824649810791), ('eldest_daughter', 0.6898224353790283)] \n",
      "\n",
      "love :  [('loved', 0.6907792091369629), ('adore', 0.6816873550415039), ('loves', 0.6618633270263672), ('passion', 0.6100709438323975), ('hate', 0.600395679473877), ('loving', 0.5886635780334473), ('affection', 0.5664337873458862), ('undying_love', 0.5547305345535278), ('absolutely_adore', 0.5536839962005615), ('adores', 0.5440906882286072)] \n",
      "\n",
      "dead :  [('killed', 0.709205150604248), ('slain', 0.610461950302124), ('murdered', 0.6102002263069153), ('presumed_dead', 0.5997574925422668), ('decapitated', 0.5863742828369141), ('died', 0.5805456042289734), ('corpses', 0.5690097808837891), ('wounded', 0.5640422105789185), ('mutilated', 0.5609894394874573), ('killing', 0.5605281591415405)] \n",
      "\n",
      "dog :  [('dogs', 0.8680489659309387), ('puppy', 0.8106428384780884), ('pit_bull', 0.780396044254303), ('pooch', 0.7627377510070801), ('cat', 0.7609456777572632), ('golden_retriever', 0.7500902414321899), ('German_shepherd', 0.7465174198150635), ('Rottweiler', 0.7437614798545837), ('beagle', 0.7418621778488159), ('pup', 0.740691065788269)] \n",
      "\n"
     ]
    },
    {
     "ename": "KeyError",
     "evalue": "\"word '' not in vocabulary\"",
     "output_type": "error",
     "traceback": [
      "\u001b[0;31m---------------------------------------------------------------------------\u001b[0m",
      "\u001b[0;31mKeyError\u001b[0m                                  Traceback (most recent call last)",
      "\u001b[0;32m<ipython-input-31-fc5fe950b2ca>\u001b[0m in \u001b[0;36m<module>\u001b[0;34m\u001b[0m\n\u001b[1;32m      6\u001b[0m \u001b[0mwords_tok\u001b[0m\u001b[0;34m=\u001b[0m\u001b[0mpreproc_tok\u001b[0m\u001b[0;34m(\u001b[0m\u001b[0minput_\u001b[0m\u001b[0;34m)\u001b[0m\u001b[0;34m\u001b[0m\u001b[0;34m\u001b[0m\u001b[0m\n\u001b[1;32m      7\u001b[0m \u001b[0;32mfor\u001b[0m \u001b[0mword\u001b[0m \u001b[0;32min\u001b[0m  \u001b[0mwords_tok\u001b[0m\u001b[0;34m:\u001b[0m\u001b[0;34m\u001b[0m\u001b[0;34m\u001b[0m\u001b[0m\n\u001b[0;32m----> 8\u001b[0;31m     \u001b[0msim\u001b[0m \u001b[0;34m=\u001b[0m \u001b[0mmodel_google\u001b[0m\u001b[0;34m.\u001b[0m\u001b[0mwv\u001b[0m\u001b[0;34m.\u001b[0m\u001b[0mmost_similar\u001b[0m\u001b[0;34m(\u001b[0m\u001b[0mword\u001b[0m\u001b[0;34m)\u001b[0m\u001b[0;34m\u001b[0m\u001b[0;34m\u001b[0m\u001b[0m\n\u001b[0m\u001b[1;32m      9\u001b[0m     \u001b[0mprint\u001b[0m \u001b[0;34m(\u001b[0m\u001b[0mword\u001b[0m\u001b[0;34m,\u001b[0m \u001b[0;34m\": \"\u001b[0m\u001b[0;34m,\u001b[0m \u001b[0msim\u001b[0m\u001b[0;34m,\u001b[0m \u001b[0;34m\"\\n\"\u001b[0m\u001b[0;34m)\u001b[0m\u001b[0;34m\u001b[0m\u001b[0;34m\u001b[0m\u001b[0m\n",
      "\u001b[0;32m/usr/local/lib/python3.6/dist-packages/gensim/models/keyedvectors.py\u001b[0m in \u001b[0;36mmost_similar\u001b[0;34m(self, positive, negative, topn, restrict_vocab, indexer)\u001b[0m\n\u001b[1;32m    551\u001b[0m                 \u001b[0mmean\u001b[0m\u001b[0;34m.\u001b[0m\u001b[0mappend\u001b[0m\u001b[0;34m(\u001b[0m\u001b[0mweight\u001b[0m \u001b[0;34m*\u001b[0m \u001b[0mword\u001b[0m\u001b[0;34m)\u001b[0m\u001b[0;34m\u001b[0m\u001b[0;34m\u001b[0m\u001b[0m\n\u001b[1;32m    552\u001b[0m             \u001b[0;32melse\u001b[0m\u001b[0;34m:\u001b[0m\u001b[0;34m\u001b[0m\u001b[0;34m\u001b[0m\u001b[0m\n\u001b[0;32m--> 553\u001b[0;31m                 \u001b[0mmean\u001b[0m\u001b[0;34m.\u001b[0m\u001b[0mappend\u001b[0m\u001b[0;34m(\u001b[0m\u001b[0mweight\u001b[0m \u001b[0;34m*\u001b[0m \u001b[0mself\u001b[0m\u001b[0;34m.\u001b[0m\u001b[0mword_vec\u001b[0m\u001b[0;34m(\u001b[0m\u001b[0mword\u001b[0m\u001b[0;34m,\u001b[0m \u001b[0muse_norm\u001b[0m\u001b[0;34m=\u001b[0m\u001b[0;32mTrue\u001b[0m\u001b[0;34m)\u001b[0m\u001b[0;34m)\u001b[0m\u001b[0;34m\u001b[0m\u001b[0;34m\u001b[0m\u001b[0m\n\u001b[0m\u001b[1;32m    554\u001b[0m                 \u001b[0;32mif\u001b[0m \u001b[0mword\u001b[0m \u001b[0;32min\u001b[0m \u001b[0mself\u001b[0m\u001b[0;34m.\u001b[0m\u001b[0mvocab\u001b[0m\u001b[0;34m:\u001b[0m\u001b[0;34m\u001b[0m\u001b[0;34m\u001b[0m\u001b[0m\n\u001b[1;32m    555\u001b[0m                     \u001b[0mall_words\u001b[0m\u001b[0;34m.\u001b[0m\u001b[0madd\u001b[0m\u001b[0;34m(\u001b[0m\u001b[0mself\u001b[0m\u001b[0;34m.\u001b[0m\u001b[0mvocab\u001b[0m\u001b[0;34m[\u001b[0m\u001b[0mword\u001b[0m\u001b[0;34m]\u001b[0m\u001b[0;34m.\u001b[0m\u001b[0mindex\u001b[0m\u001b[0;34m)\u001b[0m\u001b[0;34m\u001b[0m\u001b[0;34m\u001b[0m\u001b[0m\n",
      "\u001b[0;32m/usr/local/lib/python3.6/dist-packages/gensim/models/keyedvectors.py\u001b[0m in \u001b[0;36mword_vec\u001b[0;34m(self, word, use_norm)\u001b[0m\n\u001b[1;32m    466\u001b[0m             \u001b[0;32mreturn\u001b[0m \u001b[0mresult\u001b[0m\u001b[0;34m\u001b[0m\u001b[0;34m\u001b[0m\u001b[0m\n\u001b[1;32m    467\u001b[0m         \u001b[0;32melse\u001b[0m\u001b[0;34m:\u001b[0m\u001b[0;34m\u001b[0m\u001b[0;34m\u001b[0m\u001b[0m\n\u001b[0;32m--> 468\u001b[0;31m             \u001b[0;32mraise\u001b[0m \u001b[0mKeyError\u001b[0m\u001b[0;34m(\u001b[0m\u001b[0;34m\"word '%s' not in vocabulary\"\u001b[0m \u001b[0;34m%\u001b[0m \u001b[0mword\u001b[0m\u001b[0;34m)\u001b[0m\u001b[0;34m\u001b[0m\u001b[0;34m\u001b[0m\u001b[0m\n\u001b[0m\u001b[1;32m    469\u001b[0m \u001b[0;34m\u001b[0m\u001b[0m\n\u001b[1;32m    470\u001b[0m     \u001b[0;32mdef\u001b[0m \u001b[0mget_vector\u001b[0m\u001b[0;34m(\u001b[0m\u001b[0mself\u001b[0m\u001b[0;34m,\u001b[0m \u001b[0mword\u001b[0m\u001b[0;34m)\u001b[0m\u001b[0;34m:\u001b[0m\u001b[0;34m\u001b[0m\u001b[0;34m\u001b[0m\u001b[0m\n",
      "\u001b[0;31mKeyError\u001b[0m: \"word '' not in vocabulary\""
     ]
    }
   ],
   "source": [
    "from gensim.models import KeyedVectors\n",
    "model_google = KeyedVectors.load_word2vec_format('./GoogleNews-vectors-negative300.bin',\n",
    "binary=True, limit=NUM_W2V_TO_LOAD )\n",
    "# [a,b,c] = to_embeddings_Matrix(model_google)\n",
    "input_=my_read(\"./words.txt\")\n",
    "words_tok=preproc_tok(input_)\n",
    "for word in  words_tok:\n",
    "    sim = model_google.wv.most_similar(word)\n",
    "    print (word, \": \", sim, \"\\n\")"
   ]
  },
  {
   "cell_type": "markdown",
   "metadata": {},
   "source": [
    "Παρατηρούμε στο σημείο αυτό , πως οι λέξεις που προβλέπει τώρα το μοντέλο μας ως κοντινότερες εννοιολογικά ,είναι και στην πραγματικότητα εννοιολογικά κοντά. Το παραπάνω αποτέλεσμα είναι αναμμενόμενο, καθώς στην περίπτωση το pretrained Google Vectors το πλήθος των λέξεων είναι με διαφορά μεγαλύτερο από αυτό που προέκυπτε  στο δικό μας μοντέλο."
   ]
  },
  {
   "cell_type": "markdown",
   "metadata": {},
   "source": [
    "ε) \n",
    "\n",
    "Στο σημείο αυτό δεδομένου, ότι αλλάξαμε Embeddings , πρέπει να υπολογίσουμε ξανά τις αναπαραστάσεις των σχολιών συμφώνα με τα νέα μας  Embeddings . Αφού, ολοκληρώσουμε την παραπάνω διαδικασία εκπαιδεύουμε εκ νέου τον ταξινομητή μας "
   ]
  },
  {
   "cell_type": "code",
   "execution_count": 32,
   "metadata": {},
   "outputs": [],
   "source": [
    "def document_vector(word2vec_model, doc):\n",
    "    # remove out-of-vocabulary words\n",
    "    doc = [word for word in doc if word in word2vec_model.vocab]\n",
    "    return np.mean(word2vec_model[doc], axis=0)\n",
    "\n",
    "corpus_train =  [0]*len(corpus)\n",
    "\n",
    "for i in range (0,len(corpus)):\n",
    "    corpus_train[i]=preproc_tok(corpus[i])\n",
    "    \n",
    "corpus_test = [0]*len(test_corp)\n",
    "for i in range (0,len(test_corp)):\n",
    "    corpus_test[i]=preproc_tok(test_corp[i])\n",
    "\n",
    "imdb_train= []\n",
    "for doc in corpus_train: #look up each doc in model\n",
    "    imdb_train.append(document_vector(model_google, doc))\n",
    "df = pd.DataFrame(list(zip(y,imdb_train)),columns=[\"Y\", \"Comment\"])\n",
    "\n",
    "imdb_test = []\n",
    "for doc in corpus_test: #look up each doc in model\n",
    "    imdb_test.append(document_vector(model_google, doc))\n",
    "df2= pd.DataFrame(list(zip(test_y,imdb_test)),columns=[\"Y\", \"Comment\"])"
   ]
  },
  {
   "cell_type": "code",
   "execution_count": 34,
   "metadata": {},
   "outputs": [
    {
     "name": "stderr",
     "output_type": "stream",
     "text": [
      "/usr/local/lib/python3.6/dist-packages/sklearn/linear_model/logistic.py:432: FutureWarning: Default solver will be changed to 'lbfgs' in 0.22. Specify a solver to silence this warning.\n",
      "  FutureWarning)\n"
     ]
    },
    {
     "name": "stdout",
     "output_type": "stream",
     "text": [
      "              precision    recall  f1-score   support\n",
      "\n",
      "           0       0.86      0.84      0.85     12770\n",
      "           1       0.84      0.86      0.85     12230\n",
      "\n",
      "    accuracy                           0.85     25000\n",
      "   macro avg       0.85      0.85      0.85     25000\n",
      "weighted avg       0.85      0.85      0.85     25000\n",
      "\n"
     ]
    }
   ],
   "source": [
    "classif = LogisticRegression()\n",
    "# Fit on data\n",
    "clf = classif.fit(list(df[\"Comment\"]), df[\"Y\"])\n",
    "predict = clf.predict(list(df2[\"Comment\"]))\n",
    "print (classification_report(predict,df2[\"Y\"]))"
   ]
  },
  {
   "cell_type": "markdown",
   "metadata": {},
   "source": [
    "στ) Συνεχίζοντας, διατηρούμε ως Embeddings αυτά από το Google News. Ωστόσο, αυτή την φορά κατά την δημιουργία των αναπαραστάσεων των σχολιών θέλουμε να λάβουμε υπόψην μας και τα TF-IDF βάρη των λέξεων\n"
   ]
  },
  {
   "cell_type": "code",
   "execution_count": 46,
   "metadata": {},
   "outputs": [],
   "source": [
    "def document_vectortfidf(word2vec_model, doc,weights):\n",
    "    # remove out-of-vocabulary words\n",
    "    weight =[]\n",
    "    doc_new = []\n",
    "    i=0\n",
    "    for word in doc:\n",
    "        if word in word2vec_model.vocab:            \n",
    "            doc_new = doc_new+ [word]\n",
    "            weight = weight + [weights[word]]\n",
    "        i+=1\n",
    "    tfidf=np.asarray(weight)\n",
    "    return np.mean(word2vec_model[doc_new]*tfidf[:,np.newaxis], axis=0)"
   ]
  },
  {
   "cell_type": "code",
   "execution_count": 47,
   "metadata": {},
   "outputs": [],
   "source": [
    "vectorizer = TfidfVectorizer(analyzer = 'word',preprocessor = preprocess, tokenizer = preproc_tok)\n",
    "X = vectorizer.fit_transform(corpus)\n",
    "\n",
    "\n",
    "i=0\n",
    "imdb_train= []\n",
    "feature_names = vectorizer.get_feature_names()\n",
    "for doc in corpus_train: #look up each doc in model\n",
    "    feature_index = X[i,:].nonzero()[1]\n",
    "    tfidf_scores={}\n",
    "    for l in feature_index:\n",
    "        tfidf_scores[feature_names[l]] =X[i, l]\n",
    "    imdb_train.append(document_vectortfidf(model_google, doc,tfidf_scores))\n",
    "    i+=1\n",
    "df = pd.DataFrame(list(zip(y,imdb_train)),columns=[\"Y\", \"Comment\"])\n",
    "\n"
   ]
  },
  {
   "cell_type": "code",
   "execution_count": 49,
   "metadata": {},
   "outputs": [],
   "source": [
    "X2 = vectorizer.fit_transform(test_corp)\n",
    "\n",
    "i=0\n",
    "imdb_test = []\n",
    "feature_names2=vectorizer.get_feature_names()\n",
    "for doc in corpus_test: #look up each doc in model\n",
    "    feature_index = X2[i,:].nonzero()[1]\n",
    "    tfidf_scores={}\n",
    "    for l in feature_index:\n",
    "        tfidf_scores[feature_names2[l]] =X2[i, l]\n",
    "    #tfidf_scores = pd.DataFrame(list(zip([feature_names[l] for l in feature_index], [X[i, x] for x in feature_index])),columns = [\"Feature_Index\",\"Tf-Idf\"])\n",
    "    imdb_test.append(document_vectortfidf(model_google, doc,tfidf_scores))\n",
    "    i+=1\n",
    "df2= pd.DataFrame(list(zip(test_y,imdb_test)),columns=[\"Y\", \"Comment\"])"
   ]
  },
  {
   "cell_type": "markdown",
   "metadata": {},
   "source": [
    "ζ) Ακολουθεί εκ νέου εκπαίδευση του ταξινομητή μας με τις νέες αναπαραστάσεις που δημιουργήσαμε στο προηγούμενο ερώτημα "
   ]
  },
  {
   "cell_type": "code",
   "execution_count": 50,
   "metadata": {},
   "outputs": [
    {
     "name": "stderr",
     "output_type": "stream",
     "text": [
      "/usr/local/lib/python3.6/dist-packages/sklearn/linear_model/logistic.py:432: FutureWarning: Default solver will be changed to 'lbfgs' in 0.22. Specify a solver to silence this warning.\n",
      "  FutureWarning)\n"
     ]
    },
    {
     "name": "stdout",
     "output_type": "stream",
     "text": [
      "              precision    recall  f1-score   support\n",
      "\n",
      "           0       0.75      0.75      0.75     12430\n",
      "           1       0.75      0.75      0.75     12570\n",
      "\n",
      "    accuracy                           0.75     25000\n",
      "   macro avg       0.75      0.75      0.75     25000\n",
      "weighted avg       0.75      0.75      0.75     25000\n",
      "\n"
     ]
    }
   ],
   "source": [
    "classif = LogisticRegression()\n",
    "\n",
    "# Fit on data\n",
    "clf = classif.fit(list(df[\"Comment\"]), df[\"Y\"])\n",
    "predict = clf.predict(list(df2[\"Comment\"]))\n",
    "print (classification_report(predict,df2[\"Y\"]))"
   ]
  },
  {
   "cell_type": "markdown",
   "metadata": {},
   "source": [
    "Παρατηρούμε ότι με τη χρήση των βαρών, τα αποτελέσματα χειροτερεύουν . Αυτό μπορεί να εξηγηθεί, γιατί ο παράγοντας IDF απορρίπτει τις λέξεις που εμφανίζονται πολύ συχνά. Αυτό δεν σημαίνει ότι οι λέξεις αυτές δεν είναι χρήσιμες για την εξαγωγή συμπερασμάτων ως προς το αν ένα σχόλιο είναι θετικό ή αρνητικό."
   ]
  }
 ],
 "metadata": {
  "kernelspec": {
   "display_name": "Python 3",
   "language": "python",
   "name": "python3"
  },
  "language_info": {
   "codemirror_mode": {
    "name": "ipython",
    "version": 3
   },
   "file_extension": ".py",
   "mimetype": "text/x-python",
   "name": "python",
   "nbconvert_exporter": "python",
   "pygments_lexer": "ipython3",
   "version": "3.7.5"
  }
 },
 "nbformat": 4,
 "nbformat_minor": 4
}
